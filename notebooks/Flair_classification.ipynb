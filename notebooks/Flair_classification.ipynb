{
  "nbformat": 4,
  "nbformat_minor": 0,
  "metadata": {
    "colab": {
      "name": "Flair_classification.ipynb",
      "provenance": [],
      "collapsed_sections": []
    },
    "kernelspec": {
      "name": "python3",
      "display_name": "Python 3"
    }
  },
  "cells": [
    {
      "cell_type": "markdown",
      "metadata": {
        "id": "6tg4XosuGp9Q",
        "colab_type": "text"
      },
      "source": [
        "# **Flair classification using LSTMs**\n",
        "\n",
        "In this notebook, I attempted to enhance the classification accuracy that was achieved with the Logistic regression model using Long short-term memory networks. In order to evaluate the LSTMs performance different models were considered both with pretrained embeddings and a trainable embedding layer."
      ]
    },
    {
      "cell_type": "code",
      "metadata": {
        "id": "87FGhYhXHq5v",
        "colab_type": "code",
        "outputId": "7f07bc13-e974-4357-986f-297382a9861f",
        "colab": {
          "base_uri": "https://localhost:8080/",
          "height": 124
        }
      },
      "source": [
        "from google.colab import drive\n",
        "drive.mount('/content/drive')"
      ],
      "execution_count": 0,
      "outputs": [
        {
          "output_type": "stream",
          "text": [
            "Go to this URL in a browser: https://accounts.google.com/o/oauth2/auth?client_id=947318989803-6bn6qk8qdgf4n4g3pfee6491hc0brc4i.apps.googleusercontent.com&redirect_uri=urn%3aietf%3awg%3aoauth%3a2.0%3aoob&response_type=code&scope=email%20https%3a%2f%2fwww.googleapis.com%2fauth%2fdocs.test%20https%3a%2f%2fwww.googleapis.com%2fauth%2fdrive%20https%3a%2f%2fwww.googleapis.com%2fauth%2fdrive.photos.readonly%20https%3a%2f%2fwww.googleapis.com%2fauth%2fpeopleapi.readonly\n",
            "\n",
            "Enter your authorization code:\n",
            "··········\n",
            "Mounted at /content/drive\n"
          ],
          "name": "stdout"
        }
      ]
    },
    {
      "cell_type": "code",
      "metadata": {
        "id": "n57eKegqDHnx",
        "colab_type": "code",
        "outputId": "0b01dba7-0ff1-4a6c-cc8e-3019bcd6dcab",
        "colab": {
          "base_uri": "https://localhost:8080/",
          "height": 159
        }
      },
      "source": [
        "from time import time\n",
        "import pandas as pd\n",
        "import numpy as np\n",
        "from gensim.models import KeyedVectors\n",
        "from gensim.models import Word2Vec\n",
        "from gensim.test.utils import get_tmpfile\n",
        "import re\n",
        "import nltk\n",
        "nltk.download('stopwords')\n",
        "nltk.download('punkt')\n",
        "from nltk.corpus import stopwords\n",
        "from nltk.tokenize import word_tokenize \n",
        "from sklearn.model_selection import train_test_split\n",
        "import matplotlib.pyplot as plt\n",
        "import seaborn as sns\n",
        "from string import punctuation\n",
        "\n",
        "import itertools\n",
        "import datetime\n",
        "\n",
        "from keras.preprocessing.text import Tokenizer\n",
        "from keras.preprocessing.sequence import pad_sequences\n",
        "from keras.models import Model, load_model, Sequential\n",
        "from keras.layers import Embedding, LSTM, Dropout, Dense, Input, Bidirectional, Flatten, Conv1D, SpatialDropout1D, MaxPooling1D\n",
        "import keras.backend as K\n",
        "from keras.optimizers import Adadelta\n",
        "from keras.callbacks import ModelCheckpoint, EarlyStopping"
      ],
      "execution_count": 0,
      "outputs": [
        {
          "output_type": "stream",
          "text": [
            "[nltk_data] Downloading package stopwords to /root/nltk_data...\n",
            "[nltk_data]   Unzipping corpora/stopwords.zip.\n",
            "[nltk_data] Downloading package punkt to /root/nltk_data...\n",
            "[nltk_data]   Unzipping tokenizers/punkt.zip.\n"
          ],
          "name": "stdout"
        },
        {
          "output_type": "stream",
          "text": [
            "/usr/local/lib/python3.6/dist-packages/statsmodels/tools/_testing.py:19: FutureWarning: pandas.util.testing is deprecated. Use the functions in the public API at pandas.testing instead.\n",
            "  import pandas.util.testing as tm\n",
            "Using TensorFlow backend.\n"
          ],
          "name": "stderr"
        }
      ]
    },
    {
      "cell_type": "code",
      "metadata": {
        "id": "FTCh308JRlo2",
        "colab_type": "code",
        "colab": {}
      },
      "source": [
        "!mkdir -p ~/.kaggle\n",
        "!cp kaggle.json ~/.kaggle/"
      ],
      "execution_count": 0,
      "outputs": []
    },
    {
      "cell_type": "markdown",
      "metadata": {
        "id": "Y4np7JkpG-d8",
        "colab_type": "text"
      },
      "source": [
        "### **Word Embeddings**\n",
        "\n",
        "Three types of pre-trained embeddings are downloaded into this notebook.\n",
        "\n",
        "1.   Google's 300 dimension word2vec embeddings\n",
        "2.   300 dimension Fasttext embeddings trained on wikipedia corpus\n",
        "3.   100 dimension GLoVe embeddings trained on Twitter data\n"
      ]
    },
    {
      "cell_type": "code",
      "metadata": {
        "id": "VFBV2mcKRVk3",
        "colab_type": "code",
        "outputId": "9ec144b5-3f7b-4d29-aa71-955648dad3de",
        "colab": {
          "base_uri": "https://localhost:8080/",
          "height": 72
        }
      },
      "source": [
        "!kaggle datasets download -d bertcarremans/glovetwitter27b100dtxt"
      ],
      "execution_count": 0,
      "outputs": [
        {
          "output_type": "stream",
          "text": [
            "Warning: Your Kaggle API key is readable by other users on this system! To fix this, you can run 'chmod 600 /root/.kaggle/kaggle.json'\n",
            "glovetwitter27b100dtxt.zip: Skipping, found more recently modified local copy (use --force to force download)\n"
          ],
          "name": "stdout"
        }
      ]
    },
    {
      "cell_type": "code",
      "metadata": {
        "id": "X6ta3VRouyrT",
        "colab_type": "code",
        "outputId": "0ae7f152-b706-4835-e3d8-be39396b2512",
        "colab": {
          "base_uri": "https://localhost:8080/",
          "height": 228
        }
      },
      "source": [
        "!wget -c \"https://dl.fbaipublicfiles.com/fasttext/vectors-english/wiki-news-300d-1M.vec.zip\""
      ],
      "execution_count": 0,
      "outputs": [
        {
          "output_type": "stream",
          "text": [
            "--2020-04-14 03:15:01--  https://dl.fbaipublicfiles.com/fasttext/vectors-english/wiki-news-300d-1M.vec.zip\n",
            "Resolving dl.fbaipublicfiles.com (dl.fbaipublicfiles.com)... 104.22.75.142, 104.22.74.142, 2606:4700:10::6816:4a8e, ...\n",
            "Connecting to dl.fbaipublicfiles.com (dl.fbaipublicfiles.com)|104.22.75.142|:443... connected.\n",
            "HTTP request sent, awaiting response... 200 OK\n",
            "Length: 681808098 (650M) [application/zip]\n",
            "Saving to: ‘wiki-news-300d-1M.vec.zip’\n",
            "\n",
            "wiki-news-300d-1M.v 100%[===================>] 650.22M  8.94MB/s    in 75s     \n",
            "\n",
            "2020-04-14 03:16:17 (8.72 MB/s) - ‘wiki-news-300d-1M.vec.zip’ saved [681808098/681808098]\n",
            "\n"
          ],
          "name": "stdout"
        }
      ]
    },
    {
      "cell_type": "code",
      "metadata": {
        "id": "LF4Uivp7vPkb",
        "colab_type": "code",
        "outputId": "0f5bf0a3-936c-4131-8798-a7d1bc7c1f56",
        "colab": {
          "base_uri": "https://localhost:8080/",
          "height": 208
        }
      },
      "source": [
        "!wget -c \"https://s3.amazonaws.com/dl4j-distribution/GoogleNews-vectors-negative300.bin.gz\""
      ],
      "execution_count": 0,
      "outputs": [
        {
          "output_type": "stream",
          "text": [
            "--2020-04-16 07:26:24--  https://s3.amazonaws.com/dl4j-distribution/GoogleNews-vectors-negative300.bin.gz\n",
            "Resolving s3.amazonaws.com (s3.amazonaws.com)... 52.217.4.78\n",
            "Connecting to s3.amazonaws.com (s3.amazonaws.com)|52.217.4.78|:443... connected.\n",
            "HTTP request sent, awaiting response... 200 OK\n",
            "Length: 1647046227 (1.5G) [application/x-gzip]\n",
            "Saving to: ‘GoogleNews-vectors-negative300.bin.gz’\n",
            "\n",
            "GoogleNews-vectors- 100%[===================>]   1.53G  97.5MB/s    in 17s     \n",
            "\n",
            "2020-04-16 07:26:41 (94.1 MB/s) - ‘GoogleNews-vectors-negative300.bin.gz’ saved [1647046227/1647046227]\n",
            "\n"
          ],
          "name": "stdout"
        }
      ]
    },
    {
      "cell_type": "code",
      "metadata": {
        "id": "8zKXGoZpVsSh",
        "colab_type": "code",
        "outputId": "c535a001-f4af-4009-8b0a-d80fac1c8cc5",
        "colab": {
          "base_uri": "https://localhost:8080/",
          "height": 52
        }
      },
      "source": [
        "!unzip /content/glovetwitter27b100dtxt.zip"
      ],
      "execution_count": 0,
      "outputs": [
        {
          "output_type": "stream",
          "text": [
            "Archive:  /content/glovetwitter27b100dtxt.zip\n",
            "replace glove.twitter.27B.100d.txt? [y]es, [n]o, [A]ll, [N]one, [r]ename: n\n"
          ],
          "name": "stdout"
        }
      ]
    },
    {
      "cell_type": "code",
      "metadata": {
        "id": "qi2_wt2wwMu7",
        "colab_type": "code",
        "colab": {}
      },
      "source": [
        "!gunzip /content/GoogleNews-vectors-negative300.bin.gz"
      ],
      "execution_count": 0,
      "outputs": []
    },
    {
      "cell_type": "code",
      "metadata": {
        "id": "kr4aEb5FwUs5",
        "colab_type": "code",
        "outputId": "390f1637-e3de-4fc8-859b-f4fe0ad26ca6",
        "colab": {
          "base_uri": "https://localhost:8080/",
          "height": 52
        }
      },
      "source": [
        "!unzip /content/wiki-news-300d-1M.vec.zip"
      ],
      "execution_count": 0,
      "outputs": [
        {
          "output_type": "stream",
          "text": [
            "Archive:  /content/wiki-news-300d-1M.vec.zip\n",
            "  inflating: wiki-news-300d-1M.vec   \n"
          ],
          "name": "stdout"
        }
      ]
    },
    {
      "cell_type": "markdown",
      "metadata": {
        "id": "P83VHqMpHizy",
        "colab_type": "text"
      },
      "source": [
        "Loading the dataset"
      ]
    },
    {
      "cell_type": "code",
      "metadata": {
        "id": "mc13dDlVD93z",
        "colab_type": "code",
        "outputId": "2dadc3e3-0517-4599-acd1-3674fa88d3dc",
        "colab": {
          "base_uri": "https://localhost:8080/",
          "height": 603
        }
      },
      "source": [
        "DATA_PATH = '/content/drive/My Drive/Reddit_dataset/dataset_final.csv'\n",
        "\n",
        "dataset = pd.read_csv(DATA_PATH)\n",
        "dataset = dataset.sample(frac=1.).reset_index(drop=True)\n",
        "dataset.head()"
      ],
      "execution_count": 0,
      "outputs": [
        {
          "output_type": "execute_result",
          "data": {
            "text/html": [
              "<div>\n",
              "<style scoped>\n",
              "    .dataframe tbody tr th:only-of-type {\n",
              "        vertical-align: middle;\n",
              "    }\n",
              "\n",
              "    .dataframe tbody tr th {\n",
              "        vertical-align: top;\n",
              "    }\n",
              "\n",
              "    .dataframe thead th {\n",
              "        text-align: right;\n",
              "    }\n",
              "</style>\n",
              "<table border=\"1\" class=\"dataframe\">\n",
              "  <thead>\n",
              "    <tr style=\"text-align: right;\">\n",
              "      <th></th>\n",
              "      <th>Unnamed: 0</th>\n",
              "      <th>created_utc</th>\n",
              "      <th>url</th>\n",
              "      <th>num_comments</th>\n",
              "      <th>selftext</th>\n",
              "      <th>title</th>\n",
              "      <th>over_18</th>\n",
              "      <th>link_flair_text</th>\n",
              "      <th>id</th>\n",
              "      <th>permalink</th>\n",
              "    </tr>\n",
              "  </thead>\n",
              "  <tbody>\n",
              "    <tr>\n",
              "      <th>0</th>\n",
              "      <td>4311</td>\n",
              "      <td>1583778439</td>\n",
              "      <td>https://theprint.in/india/sudarshan-news-top-e...</td>\n",
              "      <td>4</td>\n",
              "      <td>NaN</td>\n",
              "      <td>Sudarshan News top editor does it again, now c...</td>\n",
              "      <td>False</td>\n",
              "      <td>Politics</td>\n",
              "      <td>ffz7u7</td>\n",
              "      <td>/r/india/comments/ffz7u7/sudarshan_news_top_ed...</td>\n",
              "    </tr>\n",
              "    <tr>\n",
              "      <th>1</th>\n",
              "      <td>13703</td>\n",
              "      <td>1583236131</td>\n",
              "      <td>https://www.indialegallive.com/top-news-of-the...</td>\n",
              "      <td>1</td>\n",
              "      <td>NaN</td>\n",
              "      <td>Coronavirus outbreak: Delhi HC asks Centre to ...</td>\n",
              "      <td>False</td>\n",
              "      <td>Non-Political</td>\n",
              "      <td>fctfli</td>\n",
              "      <td>/r/india/comments/fctfli/coronavirus_outbreak_...</td>\n",
              "    </tr>\n",
              "    <tr>\n",
              "      <th>2</th>\n",
              "      <td>1218</td>\n",
              "      <td>1581498906</td>\n",
              "      <td>https://www.easternmirrornagaland.com/indo-nag...</td>\n",
              "      <td>0</td>\n",
              "      <td>NaN</td>\n",
              "      <td>Indo-Naga talks: Final touches in process—Rio</td>\n",
              "      <td>False</td>\n",
              "      <td>Politics</td>\n",
              "      <td>f2okxi</td>\n",
              "      <td>/r/india/comments/f2okxi/indonaga_talks_final_...</td>\n",
              "    </tr>\n",
              "    <tr>\n",
              "      <th>3</th>\n",
              "      <td>22966</td>\n",
              "      <td>1552106737</td>\n",
              "      <td>https://www.truescoopnews.com/newsdetail/Rajiv...</td>\n",
              "      <td>2</td>\n",
              "      <td>NaN</td>\n",
              "      <td>Gold worth Rs. 90 Lakh seized at Hydrabad airport</td>\n",
              "      <td>False</td>\n",
              "      <td>Policy/Economy</td>\n",
              "      <td>ayzroh</td>\n",
              "      <td>/r/india/comments/ayzroh/gold_worth_rs_90_lakh...</td>\n",
              "    </tr>\n",
              "    <tr>\n",
              "      <th>4</th>\n",
              "      <td>9714</td>\n",
              "      <td>1585233157</td>\n",
              "      <td>https://youtu.be/w0k-gmZKMEs</td>\n",
              "      <td>0</td>\n",
              "      <td>NaN</td>\n",
              "      <td>Watch \"'Lockdown alone will not extinguish COV...</td>\n",
              "      <td>False</td>\n",
              "      <td>Coronavirus</td>\n",
              "      <td>fpchfy</td>\n",
              "      <td>/r/india/comments/fpchfy/watch_lockdown_alone_...</td>\n",
              "    </tr>\n",
              "  </tbody>\n",
              "</table>\n",
              "</div>"
            ],
            "text/plain": [
              "   Unnamed: 0  ...                                          permalink\n",
              "0        4311  ...  /r/india/comments/ffz7u7/sudarshan_news_top_ed...\n",
              "1       13703  ...  /r/india/comments/fctfli/coronavirus_outbreak_...\n",
              "2        1218  ...  /r/india/comments/f2okxi/indonaga_talks_final_...\n",
              "3       22966  ...  /r/india/comments/ayzroh/gold_worth_rs_90_lakh...\n",
              "4        9714  ...  /r/india/comments/fpchfy/watch_lockdown_alone_...\n",
              "\n",
              "[5 rows x 10 columns]"
            ]
          },
          "metadata": {
            "tags": []
          },
          "execution_count": 5
        }
      ]
    },
    {
      "cell_type": "markdown",
      "metadata": {
        "id": "JI7Kk9NHHmo2",
        "colab_type": "text"
      },
      "source": [
        "### **Cleaning the data**\n",
        "\n",
        "Removing stopwords, puntuations, urls and ensuring the text is single spaced. In addition to this, the training data comprises of the post's title and body text. This was done as the body text can provide some information but majority of cases do not have text in the body."
      ]
    },
    {
      "cell_type": "code",
      "metadata": {
        "id": "M4YG5u28EGqx",
        "colab_type": "code",
        "outputId": "55638f68-8fd2-4264-ab13-a8a26593e853",
        "colab": {
          "base_uri": "https://localhost:8080/",
          "height": 690
        }
      },
      "source": [
        "invalid_inputs =  ['nan', '[deleted]', '[removed]']\n",
        "stop = stopwords.words('english') + ['http', 'https']\n",
        "print(punctuation)\n",
        "\n",
        "def clean_text(text):\n",
        "  text = re.sub('http[s]?://\\S+', '', text)\n",
        "  text = text.translate(str.maketrans('', '', punctuation))\n",
        "  text = text.lower().strip()\n",
        "  text = ' '.join([i if i not in stop and i.isalpha() else '' for i in text.lower().split()])\n",
        "  text = re.sub(r\"\\s{2,}\", \" \", text)\n",
        "  return text\n",
        "\n",
        "dataset['selftext'] = dataset['selftext'].astype(str)\n",
        "dataset['title'] = dataset['title'].astype(str)\n",
        "for invalid_input in invalid_inputs:\n",
        "  print(invalid_input, len(dataset[dataset['selftext'] == invalid_input]))\n",
        "dataset['selftext'] = dataset['selftext'].apply(lambda val: '' if val in invalid_inputs else val)\n",
        "for invalid_input in invalid_inputs:\n",
        "  print(invalid_input, len(dataset[dataset['selftext'] == invalid_input]))\n",
        "dataset['title'] = dataset['title'] + ' ' + dataset['selftext']\n",
        "dataset['title'] = dataset['title'].apply(lambda text: clean_text(text))\n",
        "dataset.head()"
      ],
      "execution_count": 0,
      "outputs": [
        {
          "output_type": "stream",
          "text": [
            "!\"#$%&'()*+,-./:;<=>?@[\\]^_`{|}~\n",
            "nan 24483\n",
            "[deleted] 149\n",
            "[removed] 4327\n",
            "nan 0\n",
            "[deleted] 0\n",
            "[removed] 0\n"
          ],
          "name": "stdout"
        },
        {
          "output_type": "execute_result",
          "data": {
            "text/html": [
              "<div>\n",
              "<style scoped>\n",
              "    .dataframe tbody tr th:only-of-type {\n",
              "        vertical-align: middle;\n",
              "    }\n",
              "\n",
              "    .dataframe tbody tr th {\n",
              "        vertical-align: top;\n",
              "    }\n",
              "\n",
              "    .dataframe thead th {\n",
              "        text-align: right;\n",
              "    }\n",
              "</style>\n",
              "<table border=\"1\" class=\"dataframe\">\n",
              "  <thead>\n",
              "    <tr style=\"text-align: right;\">\n",
              "      <th></th>\n",
              "      <th>Unnamed: 0</th>\n",
              "      <th>created_utc</th>\n",
              "      <th>url</th>\n",
              "      <th>num_comments</th>\n",
              "      <th>selftext</th>\n",
              "      <th>title</th>\n",
              "      <th>over_18</th>\n",
              "      <th>link_flair_text</th>\n",
              "      <th>id</th>\n",
              "      <th>permalink</th>\n",
              "    </tr>\n",
              "  </thead>\n",
              "  <tbody>\n",
              "    <tr>\n",
              "      <th>0</th>\n",
              "      <td>4311</td>\n",
              "      <td>1583778439</td>\n",
              "      <td>https://theprint.in/india/sudarshan-news-top-e...</td>\n",
              "      <td>4</td>\n",
              "      <td></td>\n",
              "      <td>sudarshan news top editor calls economic boyco...</td>\n",
              "      <td>False</td>\n",
              "      <td>Politics</td>\n",
              "      <td>ffz7u7</td>\n",
              "      <td>/r/india/comments/ffz7u7/sudarshan_news_top_ed...</td>\n",
              "    </tr>\n",
              "    <tr>\n",
              "      <th>1</th>\n",
              "      <td>13703</td>\n",
              "      <td>1583236131</td>\n",
              "      <td>https://www.indialegallive.com/top-news-of-the...</td>\n",
              "      <td>1</td>\n",
              "      <td></td>\n",
              "      <td>coronavirus outbreak delhi hc asks centre subm...</td>\n",
              "      <td>False</td>\n",
              "      <td>Non-Political</td>\n",
              "      <td>fctfli</td>\n",
              "      <td>/r/india/comments/fctfli/coronavirus_outbreak_...</td>\n",
              "    </tr>\n",
              "    <tr>\n",
              "      <th>2</th>\n",
              "      <td>1218</td>\n",
              "      <td>1581498906</td>\n",
              "      <td>https://www.easternmirrornagaland.com/indo-nag...</td>\n",
              "      <td>0</td>\n",
              "      <td></td>\n",
              "      <td>indonaga talks final touches</td>\n",
              "      <td>False</td>\n",
              "      <td>Politics</td>\n",
              "      <td>f2okxi</td>\n",
              "      <td>/r/india/comments/f2okxi/indonaga_talks_final_...</td>\n",
              "    </tr>\n",
              "    <tr>\n",
              "      <th>3</th>\n",
              "      <td>22966</td>\n",
              "      <td>1552106737</td>\n",
              "      <td>https://www.truescoopnews.com/newsdetail/Rajiv...</td>\n",
              "      <td>2</td>\n",
              "      <td></td>\n",
              "      <td>gold worth rs lakh seized hydrabad airport</td>\n",
              "      <td>False</td>\n",
              "      <td>Policy/Economy</td>\n",
              "      <td>ayzroh</td>\n",
              "      <td>/r/india/comments/ayzroh/gold_worth_rs_90_lakh...</td>\n",
              "    </tr>\n",
              "    <tr>\n",
              "      <th>4</th>\n",
              "      <td>9714</td>\n",
              "      <td>1585233157</td>\n",
              "      <td>https://youtu.be/w0k-gmZKMEs</td>\n",
              "      <td>0</td>\n",
              "      <td></td>\n",
              "      <td>watch lockdown alone extinguish lists steps fi...</td>\n",
              "      <td>False</td>\n",
              "      <td>Coronavirus</td>\n",
              "      <td>fpchfy</td>\n",
              "      <td>/r/india/comments/fpchfy/watch_lockdown_alone_...</td>\n",
              "    </tr>\n",
              "  </tbody>\n",
              "</table>\n",
              "</div>"
            ],
            "text/plain": [
              "   Unnamed: 0  ...                                          permalink\n",
              "0        4311  ...  /r/india/comments/ffz7u7/sudarshan_news_top_ed...\n",
              "1       13703  ...  /r/india/comments/fctfli/coronavirus_outbreak_...\n",
              "2        1218  ...  /r/india/comments/f2okxi/indonaga_talks_final_...\n",
              "3       22966  ...  /r/india/comments/ayzroh/gold_worth_rs_90_lakh...\n",
              "4        9714  ...  /r/india/comments/fpchfy/watch_lockdown_alone_...\n",
              "\n",
              "[5 rows x 10 columns]"
            ]
          },
          "metadata": {
            "tags": []
          },
          "execution_count": 6
        }
      ]
    },
    {
      "cell_type": "code",
      "metadata": {
        "id": "5c53KgjeP76T",
        "colab_type": "code",
        "outputId": "22c16687-fc16-4662-9c9e-54a9078ca63d",
        "colab": {
          "base_uri": "https://localhost:8080/",
          "height": 55
        }
      },
      "source": [
        "print(dataset['title'].tolist()[4])"
      ],
      "execution_count": 0,
      "outputs": [
        {
          "output_type": "stream",
          "text": [
            "psyops insight yuri bezmenov view stupid psyops pakistanis played us stupidly fell including nyt article posting link yt video showcases provides good deal insight playing long game spycraft liberals rightwingers warmongers peace lovers neutral people part system kind people explained cause consequence video sit back enjoy major part interview covers india please remove without watching thanks view stupid psyops pakistanis played us stupidly fell including nyt article posting link yt video showcases provides good deal insight playing long game spycraft liberals rightwingers warmongers peace lovers neutral people part system kind people explained cause consequence video sit back enjoy major part interview covers india please remove without watching thanks\n"
          ],
          "name": "stdout"
        }
      ]
    },
    {
      "cell_type": "markdown",
      "metadata": {
        "id": "PevSrhvcISnp",
        "colab_type": "text"
      },
      "source": [
        "Setting up the embedding dimension for the LSTM model with a trainable embedding layer. In addition to that, this code segment also tokenizes the words in the dataset."
      ]
    },
    {
      "cell_type": "code",
      "metadata": {
        "id": "MbePKrf7UHHp",
        "colab_type": "code",
        "outputId": "92740790-77a6-4b23-e250-730716b97554",
        "colab": {
          "base_uri": "https://localhost:8080/",
          "height": 35
        }
      },
      "source": [
        "# The maximum number of words to be used. (most frequent)\n",
        "MAX_NB_WORDS = 50000\n",
        "# Max number of words in each complaint.\n",
        "MAX_SEQUENCE_LENGTH = 250\n",
        "# This is fixed.\n",
        "EMBEDDING_DIM = 100\n",
        "tokenizer = Tokenizer(num_words=MAX_NB_WORDS, lower=True)\n",
        "tokenizer.fit_on_texts(dataset['title'].values)\n",
        "word_index = tokenizer.word_index\n",
        "print('Found %s unique tokens.' % len(word_index))"
      ],
      "execution_count": 0,
      "outputs": [
        {
          "output_type": "stream",
          "text": [
            "Found 45761 unique tokens.\n"
          ],
          "name": "stdout"
        }
      ]
    },
    {
      "cell_type": "markdown",
      "metadata": {
        "id": "sOTfLVXtJuUh",
        "colab_type": "text"
      },
      "source": [
        "### **Loading word embeddings**\n",
        "\n",
        "This utility functions loads the GLoVe, word2vec and fasttext embeddings from their respective files. It creates an embedding matrix of the respective dimension and returns this matrix. It also computes the total number of common words between the dataset corpus and the pre-trained embeddings. "
      ]
    },
    {
      "cell_type": "code",
      "metadata": {
        "id": "7HHNvFo3R49s",
        "colab_type": "code",
        "colab": {}
      },
      "source": [
        "def loadEmbeddingMatrix(typeToLoad):\n",
        "  if typeToLoad == \"glove\":\n",
        "    EMBEDDING_FILE=\"/content/glove.twitter.27B.100d.txt\"\n",
        "    embed_size = 100\n",
        "  elif typeToLoad == \"word2vec\":\n",
        "    word2vecDict = KeyedVectors.load_word2vec_format(\"/content/GoogleNews-vectors-negative300.bin\", binary=True)\n",
        "    embed_size = 300\n",
        "  elif typeToLoad == \"fasttext\":\n",
        "    EMBEDDING_FILE=\"/content/wiki-news-300d-1M.vec\"\n",
        "    embed_size = 300\n",
        "\n",
        "  if typeToLoad == \"glove\" or typeToLoad == \"fasttext\":\n",
        "    embeddings_index = dict()\n",
        "    f = open(EMBEDDING_FILE)\n",
        "    for line in f:\n",
        "      values = line.split()\n",
        "      word = values[0]\n",
        "      coefs = np.asarray(values[1:], dtype='float32')\n",
        "      embeddings_index[word] = coefs\n",
        "    f.close()\n",
        "    print(\"Loaded \" + str(len(embeddings_index)) + \" word vectors.\")\n",
        "  else:\n",
        "    embeddings_index = dict()\n",
        "    for word in word2vecDict.wv.vocab:\n",
        "      embeddings_index[word] = word2vecDict.word_vec(word)\n",
        "    print(\"Loaded \" + str(len(embeddings_index)) + \" word vectors.\")\n",
        "        \n",
        "  embedding_matrix = np.zeros((len(word_index), embed_size))\n",
        "\n",
        "  embeddedCount = 0\n",
        "  for word, i in word_index.items():\n",
        "    i-=1\n",
        "    embedding_vector = embeddings_index.get(word)\n",
        "    if embedding_vector is not None: \n",
        "      embedding_matrix[i] = embedding_vector\n",
        "      embeddedCount+=1\n",
        "  print(\"total embedded:\", embeddedCount, \"common words\")\n",
        "        \n",
        "  del(embeddings_index)\n",
        "        \n",
        "  return embedding_matrix"
      ],
      "execution_count": 0,
      "outputs": []
    },
    {
      "cell_type": "code",
      "metadata": {
        "id": "ie5_c12c3oyF",
        "colab_type": "code",
        "outputId": "460ee7dd-1e0a-4684-d565-262a70fb516c",
        "colab": {
          "base_uri": "https://localhost:8080/",
          "height": 52
        }
      },
      "source": [
        "glove_embedding_matrix = loadEmbeddingMatrix(\"glove\")"
      ],
      "execution_count": 0,
      "outputs": [
        {
          "output_type": "stream",
          "text": [
            "Loaded 1193514 word vectors.\n",
            "total embedded: 30888 common words\n"
          ],
          "name": "stdout"
        }
      ]
    },
    {
      "cell_type": "code",
      "metadata": {
        "id": "5eBt3iUY5aER",
        "colab_type": "code",
        "outputId": "4d483bb8-6528-4d31-91b3-8e900c8f9341",
        "colab": {
          "base_uri": "https://localhost:8080/",
          "height": 124
        }
      },
      "source": [
        "word2vec_embedding_matrix = loadEmbeddingMatrix(\"word2vec\")"
      ],
      "execution_count": 0,
      "outputs": [
        {
          "output_type": "stream",
          "text": [
            "/usr/local/lib/python3.6/dist-packages/smart_open/smart_open_lib.py:410: UserWarning: This function is deprecated, use smart_open.open instead. See the migration notes for details: https://github.com/RaRe-Technologies/smart_open/blob/master/README.rst#migrating-to-the-new-open-function\n",
            "  'See the migration notes for details: %s' % _MIGRATION_NOTES_URL\n",
            "/usr/local/lib/python3.6/dist-packages/ipykernel_launcher.py:24: DeprecationWarning: Call to deprecated `wv` (Attribute will be removed in 4.0.0, use self instead).\n"
          ],
          "name": "stderr"
        },
        {
          "output_type": "stream",
          "text": [
            "Loaded 3000000 word vectors.\n",
            "total embedded: 28724 common words\n"
          ],
          "name": "stdout"
        }
      ]
    },
    {
      "cell_type": "code",
      "metadata": {
        "id": "u33G5xax5cBQ",
        "colab_type": "code",
        "outputId": "2c25b869-b30a-4d1b-b8bb-5f7eaab51dd6",
        "colab": {
          "base_uri": "https://localhost:8080/",
          "height": 52
        }
      },
      "source": [
        "fasttext_embedding_matrix = loadEmbeddingMatrix(\"fasttext\")"
      ],
      "execution_count": 0,
      "outputs": [
        {
          "output_type": "stream",
          "text": [
            "Loaded 999995 word vectors.\n",
            "total embedded: 30499 common words\n"
          ],
          "name": "stdout"
        }
      ]
    },
    {
      "cell_type": "markdown",
      "metadata": {
        "id": "-Wgngl4rKJK8",
        "colab_type": "text"
      },
      "source": [
        "Convert the text in the dataset to sequences and pad these sequences as well. In order to allow for predictions, this tokenizer is saved in a pickle file."
      ]
    },
    {
      "cell_type": "code",
      "metadata": {
        "id": "iY0TTbb6WkW0",
        "colab_type": "code",
        "outputId": "af985fda-1bd0-42be-b7bf-ad7660aede53",
        "colab": {
          "base_uri": "https://localhost:8080/",
          "height": 156
        }
      },
      "source": [
        "X = tokenizer.texts_to_sequences(dataset['title'].values)\n",
        "X = pad_sequences(X, maxlen=MAX_SEQUENCE_LENGTH)\n",
        "print('Shape of data tensor:', X.shape)\n",
        "print(X)"
      ],
      "execution_count": 0,
      "outputs": [
        {
          "output_type": "stream",
          "text": [
            "Shape of data tensor: (36000, 250)\n",
            "[[   0    0    0 ...  192 3668 3084]\n",
            " [   0    0    0 ...  211 1942 1455]\n",
            " [   0    0    0 ... 1477  983 6929]\n",
            " ...\n",
            " [   0    0    0 ...  826  932  836]\n",
            " [   0    0    0 ...  268 3852  268]\n",
            " [   0    0    0 ... 4994  629 3175]]\n"
          ],
          "name": "stdout"
        }
      ]
    },
    {
      "cell_type": "code",
      "metadata": {
        "id": "mrNs6ikyOhOF",
        "colab_type": "code",
        "colab": {}
      },
      "source": [
        "import pickle\n",
        "with open('tokenizer.pickle', 'wb') as handle:\n",
        "    pickle.dump(tokenizer, handle, protocol=pickle.HIGHEST_PROTOCOL)"
      ],
      "execution_count": 0,
      "outputs": []
    },
    {
      "cell_type": "code",
      "metadata": {
        "id": "ljwdGmB4Wqmh",
        "colab_type": "code",
        "outputId": "1d1a0d77-71bf-434d-a8df-8420206d3e36",
        "colab": {
          "base_uri": "https://localhost:8080/",
          "height": 364
        }
      },
      "source": [
        "Y = pd.get_dummies(dataset['link_flair_text']).values\n",
        "print(dataset['link_flair_text'])\n",
        "print('Shape of label tensor:', Y.shape)\n",
        "print(Y)"
      ],
      "execution_count": 0,
      "outputs": [
        {
          "output_type": "stream",
          "text": [
            "0                  Politics\n",
            "1             Non-Political\n",
            "2                  Politics\n",
            "3            Policy/Economy\n",
            "4               Coronavirus\n",
            "                ...        \n",
            "35995    Science/Technology\n",
            "35996           Coronavirus\n",
            "35997              Politics\n",
            "35998              AskIndia\n",
            "35999    Science/Technology\n",
            "Name: link_flair_text, Length: 36000, dtype: object\n",
            "Shape of label tensor: (36000, 6)\n",
            "[[0 0 0 0 1 0]\n",
            " [0 0 1 0 0 0]\n",
            " [0 0 0 0 1 0]\n",
            " ...\n",
            " [0 0 0 0 1 0]\n",
            " [1 0 0 0 0 0]\n",
            " [0 0 0 0 0 1]]\n"
          ],
          "name": "stdout"
        }
      ]
    },
    {
      "cell_type": "markdown",
      "metadata": {
        "id": "gnFPLWK8KZ4F",
        "colab_type": "text"
      },
      "source": [
        "Split the data into train, test and validation. Stratify is used as an attempt to ensure that the split data does not have class imbalance."
      ]
    },
    {
      "cell_type": "code",
      "metadata": {
        "id": "k6MgfaKVWwpU",
        "colab_type": "code",
        "outputId": "a4c3720a-5847-4c55-d2d0-6419d1444b5d",
        "colab": {
          "base_uri": "https://localhost:8080/",
          "height": 69
        }
      },
      "source": [
        "X_train, X_test, Y_train, Y_test = train_test_split(X, Y, test_size = 0.20, stratify=Y)\n",
        "X_train, X_val, Y_train, Y_val = train_test_split(X_train, Y_train, test_size = 0.10, stratify=Y_train)\n",
        "print(X_train.shape, Y_train.shape)\n",
        "print(X_val.shape, Y_val.shape)\n",
        "print(X_test.shape,Y_test.shape)"
      ],
      "execution_count": 0,
      "outputs": [
        {
          "output_type": "stream",
          "text": [
            "(25920, 250) (25920, 6)\n",
            "(2880, 250) (2880, 6)\n",
            "(7200, 250) (7200, 6)\n"
          ],
          "name": "stdout"
        }
      ]
    },
    {
      "cell_type": "markdown",
      "metadata": {
        "id": "tOrFWxEdLUOk",
        "colab_type": "text"
      },
      "source": [
        "Compiling both LSTM models - with pre-trained embeddings and with a trainable embedding layer."
      ]
    },
    {
      "cell_type": "code",
      "metadata": {
        "id": "nUdYehIaXLWE",
        "colab_type": "code",
        "colab": {}
      },
      "source": [
        "def compile_lstm_model(embedding_matrix):\n",
        "  model = Sequential()\n",
        "  model.add(Embedding(len(word_index), embedding_matrix.shape[1], input_length=MAX_SEQUENCE_LENGTH, trainable=False))\n",
        "  model.add(Dropout(0.2))\n",
        "  model.add(LSTM(100, dropout=0.2, recurrent_dropout=0.4))\n",
        "  model.add(Dense(6, activation='softmax'))\n",
        "  model.compile(loss='categorical_crossentropy',optimizer='adam', metrics=['accuracy'])\n",
        "  model.summary()\n",
        "\n",
        "  return model"
      ],
      "execution_count": 0,
      "outputs": []
    },
    {
      "cell_type": "code",
      "metadata": {
        "id": "8B8CP24GY1pa",
        "colab_type": "code",
        "colab": {}
      },
      "source": [
        "def compile_lstm_nopre_model():\n",
        "  model = Sequential()\n",
        "  model.add(Embedding(MAX_NB_WORDS, EMBEDDING_DIM, input_length=MAX_SEQUENCE_LENGTH))\n",
        "  model.add(Dropout(0.5))\n",
        "  model.add(LSTM(100, dropout=0.2, recurrent_dropout=0.4))\n",
        "  model.add(Dense(6, activation='softmax'))\n",
        "  model.compile(loss='categorical_crossentropy',optimizer='adam', metrics=['accuracy'])\n",
        "  model.summary()\n",
        "\n",
        "  return model"
      ],
      "execution_count": 0,
      "outputs": []
    },
    {
      "cell_type": "code",
      "metadata": {
        "id": "wnNva2CI6702",
        "colab_type": "code",
        "outputId": "76b5d9e4-20b5-4eb5-cc16-5513bea9dd7c",
        "colab": {
          "base_uri": "https://localhost:8080/",
          "height": 295
        }
      },
      "source": [
        "lstm_glove_model = compile_lstm_model(glove_embedding_matrix)"
      ],
      "execution_count": 0,
      "outputs": [
        {
          "output_type": "stream",
          "text": [
            "Model: \"sequential_1\"\n",
            "_________________________________________________________________\n",
            "Layer (type)                 Output Shape              Param #   \n",
            "=================================================================\n",
            "embedding_1 (Embedding)      (None, 250, 100)          4576200   \n",
            "_________________________________________________________________\n",
            "dropout_1 (Dropout)          (None, 250, 100)          0         \n",
            "_________________________________________________________________\n",
            "lstm_1 (LSTM)                (None, 100)               80400     \n",
            "_________________________________________________________________\n",
            "dense_1 (Dense)              (None, 6)                 606       \n",
            "=================================================================\n",
            "Total params: 4,657,206\n",
            "Trainable params: 81,006\n",
            "Non-trainable params: 4,576,200\n",
            "_________________________________________________________________\n"
          ],
          "name": "stdout"
        }
      ]
    },
    {
      "cell_type": "code",
      "metadata": {
        "id": "qi-bmQz5ZLyj",
        "colab_type": "code",
        "outputId": "1ce141b7-6e38-48b9-e36a-6ccb6733b78c",
        "colab": {
          "base_uri": "https://localhost:8080/",
          "height": 295
        }
      },
      "source": [
        "lstm_no_pre = compile_lstm_nopre_model()"
      ],
      "execution_count": 0,
      "outputs": [
        {
          "output_type": "stream",
          "text": [
            "Model: \"sequential_2\"\n",
            "_________________________________________________________________\n",
            "Layer (type)                 Output Shape              Param #   \n",
            "=================================================================\n",
            "embedding_2 (Embedding)      (None, 250, 100)          5000000   \n",
            "_________________________________________________________________\n",
            "dropout_2 (Dropout)          (None, 250, 100)          0         \n",
            "_________________________________________________________________\n",
            "lstm_2 (LSTM)                (None, 100)               80400     \n",
            "_________________________________________________________________\n",
            "dense_2 (Dense)              (None, 6)                 606       \n",
            "=================================================================\n",
            "Total params: 5,081,006\n",
            "Trainable params: 5,081,006\n",
            "Non-trainable params: 0\n",
            "_________________________________________________________________\n"
          ],
          "name": "stdout"
        }
      ]
    },
    {
      "cell_type": "code",
      "metadata": {
        "id": "j-2_EQwq7A1N",
        "colab_type": "code",
        "outputId": "026131db-b66b-483a-d1bd-a98619793955",
        "colab": {
          "base_uri": "https://localhost:8080/",
          "height": 295
        }
      },
      "source": [
        "lstm_word2vec_model = compile_lstm_model(word2vec_embedding_matrix)"
      ],
      "execution_count": 0,
      "outputs": [
        {
          "output_type": "stream",
          "text": [
            "Model: \"sequential_2\"\n",
            "_________________________________________________________________\n",
            "Layer (type)                 Output Shape              Param #   \n",
            "=================================================================\n",
            "embedding_2 (Embedding)      (None, 250, 300)          13728300  \n",
            "_________________________________________________________________\n",
            "dropout_2 (Dropout)          (None, 250, 300)          0         \n",
            "_________________________________________________________________\n",
            "lstm_2 (LSTM)                (None, 100)               160400    \n",
            "_________________________________________________________________\n",
            "dense_2 (Dense)              (None, 6)                 606       \n",
            "=================================================================\n",
            "Total params: 13,889,306\n",
            "Trainable params: 161,006\n",
            "Non-trainable params: 13,728,300\n",
            "_________________________________________________________________\n"
          ],
          "name": "stdout"
        }
      ]
    },
    {
      "cell_type": "code",
      "metadata": {
        "id": "DON6qjHP7F_L",
        "colab_type": "code",
        "outputId": "d9d4995d-fef3-4792-ad40-f45d0ba23096",
        "colab": {
          "base_uri": "https://localhost:8080/",
          "height": 295
        }
      },
      "source": [
        "lstm_fasttext_model = compile_lstm_model(fasttext_embedding_matrix)"
      ],
      "execution_count": 0,
      "outputs": [
        {
          "output_type": "stream",
          "text": [
            "Model: \"sequential_1\"\n",
            "_________________________________________________________________\n",
            "Layer (type)                 Output Shape              Param #   \n",
            "=================================================================\n",
            "embedding_1 (Embedding)      (None, 250, 300)          13728300  \n",
            "_________________________________________________________________\n",
            "dropout_1 (Dropout)          (None, 250, 300)          0         \n",
            "_________________________________________________________________\n",
            "lstm_1 (LSTM)                (None, 100)               160400    \n",
            "_________________________________________________________________\n",
            "dense_1 (Dense)              (None, 6)                 606       \n",
            "=================================================================\n",
            "Total params: 13,889,306\n",
            "Trainable params: 161,006\n",
            "Non-trainable params: 13,728,300\n",
            "_________________________________________________________________\n"
          ],
          "name": "stdout"
        }
      ]
    },
    {
      "cell_type": "markdown",
      "metadata": {
        "id": "PgNAOoriM0wn",
        "colab_type": "text"
      },
      "source": [
        "Utility functions to train each model, evaluate the accuracy and loss. In addition to this, it also plots the epoch vs acc and epoch vs loss for each model. Each model also has two callbacks:\n",
        "\n",
        "1.   Early stopping with the patience set as 5\n",
        "2.   Checkpoint to save weights at the end of each epoch.\n",
        "\n"
      ]
    },
    {
      "cell_type": "code",
      "metadata": {
        "id": "7wlImBqp8D6I",
        "colab_type": "code",
        "colab": {}
      },
      "source": [
        "epochs = 100\n",
        "batch_size = 64\n",
        "\n",
        "def plot_loss(history):\n",
        "  plt.title('Loss')\n",
        "  plt.plot(history.history['loss'], label='train')\n",
        "  plt.plot(history.history['val_loss'], label='test')\n",
        "  plt.legend()\n",
        "  plt.show()\n",
        "\n",
        "def plot_acc(history):\n",
        "  plt.title('Accuracy')\n",
        "  plt.plot(history.history['accuracy'], label='train')\n",
        "  plt.plot(history.history['val_accuracy'], label='test')\n",
        "  plt.legend()\n",
        "  plt.show()\n",
        "\n",
        "def train_test_model(model, embedding_type=\"\", model_type=\"\"):\n",
        "  checkpoint_path = \"/content/drive/My Drive/Reddit_dataset/cp-{epoch:04d}-\" + str(embedding_type) + \"-\" + model_type + \".ckpt\"\n",
        "  cp_callback = ModelCheckpoint(checkpoint_path, save_weights_only=True, verbose=1, period=1)\n",
        "  es_callback = EarlyStopping(patience=5)\n",
        "  history = model.fit(X_train, Y_train, epochs=epochs, batch_size=batch_size, validation_data=(X_val, Y_val), callbacks=[cp_callback, es_callback])\n",
        "  accr = model.evaluate(X_test, Y_test)\n",
        "  print('Test set\\n  Loss: {:0.3f}\\n  Accuracy: {:0.3f}'.format(accr[0],accr[1]))\n",
        "  plot_acc(history)\n",
        "  plot_loss(history)"
      ],
      "execution_count": 0,
      "outputs": []
    },
    {
      "cell_type": "markdown",
      "metadata": {
        "id": "LjV1MvyWLgTU",
        "colab_type": "text"
      },
      "source": [
        "The LSTM with no pre-trained embeddings seems to be start overfitting almost immediately. As a result, the training is quit due to the Early Stopping callback."
      ]
    },
    {
      "cell_type": "code",
      "metadata": {
        "id": "xAFmW-FreEdD",
        "colab_type": "code",
        "outputId": "14b0971f-2f86-4d59-b902-504dac42291d",
        "colab": {
          "base_uri": "https://localhost:8080/",
          "height": 1000
        }
      },
      "source": [
        "train_test_model(lstm_no_pre)\n",
        "lstm_no_pre.save('/content/drive/My Drive/Reddit_dataset/lstm_no_pre.h5')"
      ],
      "execution_count": 0,
      "outputs": [
        {
          "output_type": "stream",
          "text": [
            "/usr/local/lib/python3.6/dist-packages/tensorflow/python/framework/indexed_slices.py:434: UserWarning: Converting sparse IndexedSlices to a dense Tensor of unknown shape. This may consume a large amount of memory.\n",
            "  \"Converting sparse IndexedSlices to a dense Tensor of unknown shape. \"\n"
          ],
          "name": "stderr"
        },
        {
          "output_type": "stream",
          "text": [
            "Train on 25920 samples, validate on 2880 samples\n",
            "Epoch 1/20\n",
            "25920/25920 [==============================] - 627s 24ms/step - loss: 1.4415 - accuracy: 0.4430 - val_loss: 1.1812 - val_accuracy: 0.5681\n",
            "\n",
            "Epoch 00001: saving model to /content/drive/My Drive/Reddit_dataset/cp-0001--.ckpt\n",
            "Epoch 2/20\n",
            "25920/25920 [==============================] - 649s 25ms/step - loss: 1.0486 - accuracy: 0.6190 - val_loss: 1.1273 - val_accuracy: 0.5941\n",
            "\n",
            "Epoch 00002: saving model to /content/drive/My Drive/Reddit_dataset/cp-0002--.ckpt\n",
            "Epoch 3/20\n",
            "25920/25920 [==============================] - 658s 25ms/step - loss: 0.8294 - accuracy: 0.7052 - val_loss: 1.1630 - val_accuracy: 0.5944\n",
            "\n",
            "Epoch 00003: saving model to /content/drive/My Drive/Reddit_dataset/cp-0003--.ckpt\n",
            "Epoch 4/20\n",
            "25920/25920 [==============================] - 659s 25ms/step - loss: 0.6715 - accuracy: 0.7652 - val_loss: 1.2414 - val_accuracy: 0.5747\n",
            "\n",
            "Epoch 00004: saving model to /content/drive/My Drive/Reddit_dataset/cp-0004--.ckpt\n",
            "Epoch 5/20\n",
            "25920/25920 [==============================] - 663s 26ms/step - loss: 0.5622 - accuracy: 0.8067 - val_loss: 1.3202 - val_accuracy: 0.5760\n",
            "\n",
            "Epoch 00005: saving model to /content/drive/My Drive/Reddit_dataset/cp-0005--.ckpt\n",
            "Epoch 6/20\n",
            "25920/25920 [==============================] - 667s 26ms/step - loss: 0.4830 - accuracy: 0.8316 - val_loss: 1.4232 - val_accuracy: 0.5705\n",
            "\n",
            "Epoch 00006: saving model to /content/drive/My Drive/Reddit_dataset/cp-0006--.ckpt\n",
            "Epoch 7/20\n",
            "25920/25920 [==============================] - 665s 26ms/step - loss: 0.4221 - accuracy: 0.8521 - val_loss: 1.5041 - val_accuracy: 0.5625\n",
            "\n",
            "Epoch 00007: saving model to /content/drive/My Drive/Reddit_dataset/cp-0007--.ckpt\n",
            "7200/7200 [==============================] - 15s 2ms/step\n",
            "Test set\n",
            "  Loss: 1.552\n",
            "  Accuracy: 0.551\n"
          ],
          "name": "stdout"
        },
        {
          "output_type": "display_data",
          "data": {
            "image/png": "[encoded data removed]",
            "text/plain": [
              "<Figure size 432x288 with 1 Axes>"
            ]
          },
          "metadata": {
            "tags": [],
            "needs_background": "light"
          }
        },
        {
          "output_type": "display_data",
          "data": {
            "image/png": "[encoded data removed]",
            "text/plain": [
              "<Figure size 432x288 with 1 Axes>"
            ]
          },
          "metadata": {
            "tags": [],
            "needs_background": "light"
          }
        }
      ]
    },
    {
      "cell_type": "markdown",
      "metadata": {
        "id": "y_3J_c8VPSpu",
        "colab_type": "text"
      },
      "source": [
        "The GLoVe model trains for longer. However, the model is learning too slowly and thus has a bad accuracy on the test set."
      ]
    },
    {
      "cell_type": "code",
      "metadata": {
        "id": "yCjV9wAD8-NH",
        "colab_type": "code",
        "outputId": "eec46ae2-42c5-4f58-b14e-7ad3b88821c9",
        "colab": {
          "base_uri": "https://localhost:8080/",
          "height": 1000
        }
      },
      "source": [
        "train_test_model(lstm_glove_model, \"glove\", \"lstm\")\n",
        "lstm_glove_model.save('/content/drive/My Drive/Reddit_dataset/lstm_glove_model.h5')"
      ],
      "execution_count": 0,
      "outputs": [
        {
          "output_type": "stream",
          "text": [
            "Train on 25920 samples, validate on 2880 samples\n",
            "Epoch 1/20\n",
            "25920/25920 [==============================] - 606s 23ms/step - loss: 1.7318 - accuracy: 0.2566 - val_loss: 1.6880 - val_accuracy: 0.2979\n",
            "\n",
            "Epoch 00001: saving model to /content/drive/My Drive/Reddit_dataset/cp-0001-glove-lstm.ckpt\n",
            "Epoch 2/20\n",
            "25920/25920 [==============================] - 610s 24ms/step - loss: 1.6911 - accuracy: 0.2919 - val_loss: 1.6786 - val_accuracy: 0.2969\n",
            "\n",
            "Epoch 00002: saving model to /content/drive/My Drive/Reddit_dataset/cp-0002-glove-lstm.ckpt\n",
            "Epoch 3/20\n",
            "25920/25920 [==============================] - 602s 23ms/step - loss: 1.6817 - accuracy: 0.3016 - val_loss: 1.6718 - val_accuracy: 0.3222\n",
            "\n",
            "Epoch 00003: saving model to /content/drive/My Drive/Reddit_dataset/cp-0003-glove-lstm.ckpt\n",
            "Epoch 4/20\n",
            "25920/25920 [==============================] - 599s 23ms/step - loss: 1.6730 - accuracy: 0.3110 - val_loss: 1.6590 - val_accuracy: 0.3295\n",
            "\n",
            "Epoch 00004: saving model to /content/drive/My Drive/Reddit_dataset/cp-0004-glove-lstm.ckpt\n",
            "Epoch 5/20\n",
            "25920/25920 [==============================] - 592s 23ms/step - loss: 1.6668 - accuracy: 0.3128 - val_loss: 1.6434 - val_accuracy: 0.3340\n",
            "\n",
            "Epoch 00005: saving model to /content/drive/My Drive/Reddit_dataset/cp-0005-glove-lstm.ckpt\n",
            "Epoch 6/20\n",
            "25920/25920 [==============================] - 589s 23ms/step - loss: 1.6617 - accuracy: 0.3206 - val_loss: 1.6382 - val_accuracy: 0.3403\n",
            "\n",
            "Epoch 00006: saving model to /content/drive/My Drive/Reddit_dataset/cp-0006-glove-lstm.ckpt\n",
            "Epoch 7/20\n",
            "25920/25920 [==============================] - 603s 23ms/step - loss: 1.6578 - accuracy: 0.3222 - val_loss: 1.6292 - val_accuracy: 0.3510\n",
            "\n",
            "Epoch 00007: saving model to /content/drive/My Drive/Reddit_dataset/cp-0007-glove-lstm.ckpt\n",
            "Epoch 8/20\n",
            "25920/25920 [==============================] - 593s 23ms/step - loss: 1.6477 - accuracy: 0.3296 - val_loss: 1.6265 - val_accuracy: 0.3587\n",
            "\n",
            "Epoch 00008: saving model to /content/drive/My Drive/Reddit_dataset/cp-0008-glove-lstm.ckpt\n",
            "Epoch 9/20\n",
            "25920/25920 [==============================] - 593s 23ms/step - loss: 1.6514 - accuracy: 0.3243 - val_loss: 1.6193 - val_accuracy: 0.3549\n",
            "\n",
            "Epoch 00009: saving model to /content/drive/My Drive/Reddit_dataset/cp-0009-glove-lstm.ckpt\n",
            "Epoch 10/20\n",
            "25920/25920 [==============================] - 598s 23ms/step - loss: 1.6431 - accuracy: 0.3318 - val_loss: 1.6228 - val_accuracy: 0.3590\n",
            "\n",
            "Epoch 00010: saving model to /content/drive/My Drive/Reddit_dataset/cp-0010-glove-lstm.ckpt\n",
            "Epoch 11/20\n",
            "25920/25920 [==============================] - 602s 23ms/step - loss: 1.6423 - accuracy: 0.3364 - val_loss: 1.6087 - val_accuracy: 0.3611\n",
            "\n",
            "Epoch 00011: saving model to /content/drive/My Drive/Reddit_dataset/cp-0011-glove-lstm.ckpt\n",
            "Epoch 12/20\n",
            "25920/25920 [==============================] - 601s 23ms/step - loss: 1.6384 - accuracy: 0.3362 - val_loss: 1.6063 - val_accuracy: 0.3660\n",
            "\n",
            "Epoch 00012: saving model to /content/drive/My Drive/Reddit_dataset/cp-0012-glove-lstm.ckpt\n",
            "Epoch 13/20\n",
            "25920/25920 [==============================] - 603s 23ms/step - loss: 1.6355 - accuracy: 0.3383 - val_loss: 1.6056 - val_accuracy: 0.3618\n",
            "\n",
            "Epoch 00013: saving model to /content/drive/My Drive/Reddit_dataset/cp-0013-glove-lstm.ckpt\n",
            "Epoch 14/20\n",
            "25920/25920 [==============================] - 598s 23ms/step - loss: 1.6355 - accuracy: 0.3410 - val_loss: 1.6062 - val_accuracy: 0.3566\n",
            "\n",
            "Epoch 00014: saving model to /content/drive/My Drive/Reddit_dataset/cp-0014-glove-lstm.ckpt\n",
            "Epoch 15/20\n",
            "25920/25920 [==============================] - 592s 23ms/step - loss: 1.6266 - accuracy: 0.3445 - val_loss: 1.5893 - val_accuracy: 0.3736\n",
            "\n",
            "Epoch 00015: saving model to /content/drive/My Drive/Reddit_dataset/cp-0015-glove-lstm.ckpt\n",
            "Epoch 16/20\n",
            "25920/25920 [==============================] - 586s 23ms/step - loss: 1.6236 - accuracy: 0.3442 - val_loss: 1.5901 - val_accuracy: 0.3736\n",
            "\n",
            "Epoch 00016: saving model to /content/drive/My Drive/Reddit_dataset/cp-0016-glove-lstm.ckpt\n",
            "Epoch 17/20\n",
            "25920/25920 [==============================] - 591s 23ms/step - loss: 1.6187 - accuracy: 0.3521 - val_loss: 1.5923 - val_accuracy: 0.3649\n",
            "\n",
            "Epoch 00017: saving model to /content/drive/My Drive/Reddit_dataset/cp-0017-glove-lstm.ckpt\n",
            "Epoch 18/20\n",
            "25920/25920 [==============================] - 591s 23ms/step - loss: 1.6168 - accuracy: 0.3497 - val_loss: 1.5799 - val_accuracy: 0.3747\n",
            "\n",
            "Epoch 00018: saving model to /content/drive/My Drive/Reddit_dataset/cp-0018-glove-lstm.ckpt\n",
            "Epoch 19/20\n",
            "25920/25920 [==============================] - 599s 23ms/step - loss: 1.6147 - accuracy: 0.3490 - val_loss: 1.5819 - val_accuracy: 0.3750\n",
            "\n",
            "Epoch 00019: saving model to /content/drive/My Drive/Reddit_dataset/cp-0019-glove-lstm.ckpt\n",
            "Epoch 20/20\n",
            "25920/25920 [==============================] - 591s 23ms/step - loss: 1.6055 - accuracy: 0.3568 - val_loss: 1.5764 - val_accuracy: 0.3729\n",
            "\n",
            "Epoch 00020: saving model to /content/drive/My Drive/Reddit_dataset/cp-0020-glove-lstm.ckpt\n",
            "7200/7200 [==============================] - 12s 2ms/step\n",
            "Test set\n",
            "  Loss: 1.576\n",
            "  Accuracy: 0.382\n"
          ],
          "name": "stdout"
        },
        {
          "output_type": "display_data",
          "data": {
            "image/png": "[encoded data removed]",
            "text/plain": [
              "<Figure size 432x288 with 1 Axes>"
            ]
          },
          "metadata": {
            "tags": [],
            "needs_background": "light"
          }
        },
        {
          "output_type": "display_data",
          "data": {
            "image/png": "[encoded data removed]",
            "text/plain": [
              "<Figure size 432x288 with 1 Axes>"
            ]
          },
          "metadata": {
            "tags": [],
            "needs_background": "light"
          }
        }
      ]
    },
    {
      "cell_type": "markdown",
      "metadata": {
        "id": "ybbNlHF9PiZ-",
        "colab_type": "text"
      },
      "source": [
        "The Fasttext and Word2Vec models performed much better and outperformed both the previous models on baseline training of 20 epochs. As a result I trained each on 100 epochs as the increase in validation accuracy and decrease in validation loss was slow, yet steady. The word2vec model narrowly outperforms the fasttext model with an accuracy of 0.521 vs 0.518 and a loss of 1.278 vs 1.282. This accuracy was lesser than that achieved by the LSTM with no pre-trained embedding. However, that model was significantly overfitting."
      ]
    },
    {
      "cell_type": "code",
      "metadata": {
        "id": "xDUpzT3cHsnB",
        "colab_type": "code",
        "outputId": "05b642a6-fdb9-446e-a2dc-3ee7367c7a8e",
        "colab": {
          "base_uri": "https://localhost:8080/",
          "height": 1000
        }
      },
      "source": [
        "train_test_model(lstm_word2vec_model, \"word2vec\", \"lstm\")\n",
        "lstm_word2vec_model.save('/content/drive/My Drive/Reddit_dataset/lstm_word2vec_model.h5')"
      ],
      "execution_count": 0,
      "outputs": [
        {
          "output_type": "stream",
          "text": [
            "Train on 25920 samples, validate on 2880 samples\n",
            "Epoch 1/100\n",
            "25920/25920 [==============================] - 189s 7ms/step - loss: 1.7523 - accuracy: 0.2550 - val_loss: 1.7041 - val_accuracy: 0.3028\n",
            "\n",
            "Epoch 00001: saving model to /content/drive/My Drive/Reddit_dataset/cp-0001-word2vec-lstm.ckpt\n",
            "Epoch 2/100\n",
            "25920/25920 [==============================] - 189s 7ms/step - loss: 1.6833 - accuracy: 0.3186 - val_loss: 1.6459 - val_accuracy: 0.3524\n",
            "\n",
            "Epoch 00002: saving model to /content/drive/My Drive/Reddit_dataset/cp-0002-word2vec-lstm.ckpt\n",
            "Epoch 3/100\n",
            "25920/25920 [==============================] - 190s 7ms/step - loss: 1.6246 - accuracy: 0.3500 - val_loss: 1.5897 - val_accuracy: 0.3736\n",
            "\n",
            "Epoch 00003: saving model to /content/drive/My Drive/Reddit_dataset/cp-0003-word2vec-lstm.ckpt\n",
            "Epoch 4/100\n",
            "25920/25920 [==============================] - 187s 7ms/step - loss: 1.6031 - accuracy: 0.3624 - val_loss: 1.5703 - val_accuracy: 0.3840\n",
            "\n",
            "Epoch 00004: saving model to /content/drive/My Drive/Reddit_dataset/cp-0004-word2vec-lstm.ckpt\n",
            "Epoch 5/100\n",
            "25920/25920 [==============================] - 190s 7ms/step - loss: 1.5853 - accuracy: 0.3742 - val_loss: 1.5627 - val_accuracy: 0.3851\n",
            "\n",
            "Epoch 00005: saving model to /content/drive/My Drive/Reddit_dataset/cp-0005-word2vec-lstm.ckpt\n",
            "Epoch 6/100\n",
            "25920/25920 [==============================] - 193s 7ms/step - loss: 1.5741 - accuracy: 0.3767 - val_loss: 1.5495 - val_accuracy: 0.3899\n",
            "\n",
            "Epoch 00006: saving model to /content/drive/My Drive/Reddit_dataset/cp-0006-word2vec-lstm.ckpt\n",
            "Epoch 7/100\n",
            "25920/25920 [==============================] - 186s 7ms/step - loss: 1.5637 - accuracy: 0.3798 - val_loss: 1.5426 - val_accuracy: 0.3972\n",
            "\n",
            "Epoch 00007: saving model to /content/drive/My Drive/Reddit_dataset/cp-0007-word2vec-lstm.ckpt\n",
            "Epoch 8/100\n",
            "25920/25920 [==============================] - 190s 7ms/step - loss: 1.5523 - accuracy: 0.3858 - val_loss: 1.5298 - val_accuracy: 0.4024\n",
            "\n",
            "Epoch 00008: saving model to /content/drive/My Drive/Reddit_dataset/cp-0008-word2vec-lstm.ckpt\n",
            "Epoch 9/100\n",
            "25920/25920 [==============================] - 188s 7ms/step - loss: 1.5467 - accuracy: 0.3854 - val_loss: 1.5271 - val_accuracy: 0.4021\n",
            "\n",
            "Epoch 00009: saving model to /content/drive/My Drive/Reddit_dataset/cp-0009-word2vec-lstm.ckpt\n",
            "Epoch 10/100\n",
            "25920/25920 [==============================] - 189s 7ms/step - loss: 1.5347 - accuracy: 0.3939 - val_loss: 1.5151 - val_accuracy: 0.4076\n",
            "\n",
            "Epoch 00010: saving model to /content/drive/My Drive/Reddit_dataset/cp-0010-word2vec-lstm.ckpt\n",
            "Epoch 11/100\n",
            "25920/25920 [==============================] - 190s 7ms/step - loss: 1.5320 - accuracy: 0.3953 - val_loss: 1.5122 - val_accuracy: 0.4056\n",
            "\n",
            "Epoch 00011: saving model to /content/drive/My Drive/Reddit_dataset/cp-0011-word2vec-lstm.ckpt\n",
            "Epoch 12/100\n",
            "25920/25920 [==============================] - 185s 7ms/step - loss: 1.5190 - accuracy: 0.4009 - val_loss: 1.5089 - val_accuracy: 0.4104\n",
            "\n",
            "Epoch 00012: saving model to /content/drive/My Drive/Reddit_dataset/cp-0012-word2vec-lstm.ckpt\n",
            "Epoch 13/100\n",
            "25920/25920 [==============================] - 186s 7ms/step - loss: 1.5138 - accuracy: 0.4030 - val_loss: 1.5167 - val_accuracy: 0.4090\n",
            "\n",
            "Epoch 00013: saving model to /content/drive/My Drive/Reddit_dataset/cp-0013-word2vec-lstm.ckpt\n",
            "Epoch 14/100\n",
            "25920/25920 [==============================] - 188s 7ms/step - loss: 1.5039 - accuracy: 0.4096 - val_loss: 1.4969 - val_accuracy: 0.4122\n",
            "\n",
            "Epoch 00014: saving model to /content/drive/My Drive/Reddit_dataset/cp-0014-word2vec-lstm.ckpt\n",
            "Epoch 15/100\n",
            "25920/25920 [==============================] - 188s 7ms/step - loss: 1.4962 - accuracy: 0.4105 - val_loss: 1.4952 - val_accuracy: 0.4111\n",
            "\n",
            "Epoch 00015: saving model to /content/drive/My Drive/Reddit_dataset/cp-0015-word2vec-lstm.ckpt\n",
            "Epoch 16/100\n",
            "25920/25920 [==============================] - 190s 7ms/step - loss: 1.4875 - accuracy: 0.4154 - val_loss: 1.4869 - val_accuracy: 0.4170\n",
            "\n",
            "Epoch 00016: saving model to /content/drive/My Drive/Reddit_dataset/cp-0016-word2vec-lstm.ckpt\n",
            "Epoch 17/100\n",
            "25920/25920 [==============================] - 187s 7ms/step - loss: 1.4864 - accuracy: 0.4157 - val_loss: 1.4844 - val_accuracy: 0.4135\n",
            "\n",
            "Epoch 00017: saving model to /content/drive/My Drive/Reddit_dataset/cp-0017-word2vec-lstm.ckpt\n",
            "Epoch 18/100\n",
            "25920/25920 [==============================] - 192s 7ms/step - loss: 1.4789 - accuracy: 0.4205 - val_loss: 1.4823 - val_accuracy: 0.4236\n",
            "\n",
            "Epoch 00018: saving model to /content/drive/My Drive/Reddit_dataset/cp-0018-word2vec-lstm.ckpt\n",
            "Epoch 19/100\n",
            "25920/25920 [==============================] - 192s 7ms/step - loss: 1.4721 - accuracy: 0.4204 - val_loss: 1.4754 - val_accuracy: 0.4222\n",
            "\n",
            "Epoch 00019: saving model to /content/drive/My Drive/Reddit_dataset/cp-0019-word2vec-lstm.ckpt\n",
            "Epoch 20/100\n",
            "25920/25920 [==============================] - 187s 7ms/step - loss: 1.4599 - accuracy: 0.4310 - val_loss: 1.4665 - val_accuracy: 0.4274\n",
            "\n",
            "Epoch 00020: saving model to /content/drive/My Drive/Reddit_dataset/cp-0020-word2vec-lstm.ckpt\n",
            "Epoch 21/100\n",
            "25920/25920 [==============================] - 190s 7ms/step - loss: 1.4561 - accuracy: 0.4270 - val_loss: 1.4609 - val_accuracy: 0.4260\n",
            "\n",
            "Epoch 00021: saving model to /content/drive/My Drive/Reddit_dataset/cp-0021-word2vec-lstm.ckpt\n",
            "Epoch 22/100\n",
            "25920/25920 [==============================] - 185s 7ms/step - loss: 1.4443 - accuracy: 0.4359 - val_loss: 1.4539 - val_accuracy: 0.4313\n",
            "\n",
            "Epoch 00022: saving model to /content/drive/My Drive/Reddit_dataset/cp-0022-word2vec-lstm.ckpt\n",
            "Epoch 23/100\n",
            "25920/25920 [==============================] - 186s 7ms/step - loss: 1.4374 - accuracy: 0.4395 - val_loss: 1.4499 - val_accuracy: 0.4309\n",
            "\n",
            "Epoch 00023: saving model to /content/drive/My Drive/Reddit_dataset/cp-0023-word2vec-lstm.ckpt\n",
            "Epoch 24/100\n",
            "25920/25920 [==============================] - 187s 7ms/step - loss: 1.4217 - accuracy: 0.4440 - val_loss: 1.4477 - val_accuracy: 0.4365\n",
            "\n",
            "Epoch 00024: saving model to /content/drive/My Drive/Reddit_dataset/cp-0024-word2vec-lstm.ckpt\n",
            "Epoch 25/100\n",
            "25920/25920 [==============================] - 187s 7ms/step - loss: 1.4215 - accuracy: 0.4454 - val_loss: 1.4480 - val_accuracy: 0.4389\n",
            "\n",
            "Epoch 00025: saving model to /content/drive/My Drive/Reddit_dataset/cp-0025-word2vec-lstm.ckpt\n",
            "Epoch 26/100\n",
            "25920/25920 [==============================] - 190s 7ms/step - loss: 1.4144 - accuracy: 0.4488 - val_loss: 1.4340 - val_accuracy: 0.4424\n",
            "\n",
            "Epoch 00026: saving model to /content/drive/My Drive/Reddit_dataset/cp-0026-word2vec-lstm.ckpt\n",
            "Epoch 27/100\n",
            "25920/25920 [==============================] - 187s 7ms/step - loss: 1.4038 - accuracy: 0.4562 - val_loss: 1.4378 - val_accuracy: 0.4396\n",
            "\n",
            "Epoch 00027: saving model to /content/drive/My Drive/Reddit_dataset/cp-0027-word2vec-lstm.ckpt\n",
            "Epoch 28/100\n",
            "25920/25920 [==============================] - 187s 7ms/step - loss: 1.3914 - accuracy: 0.4596 - val_loss: 1.4263 - val_accuracy: 0.4510\n",
            "\n",
            "Epoch 00028: saving model to /content/drive/My Drive/Reddit_dataset/cp-0028-word2vec-lstm.ckpt\n",
            "Epoch 29/100\n",
            "25920/25920 [==============================] - 187s 7ms/step - loss: 1.3855 - accuracy: 0.4644 - val_loss: 1.4150 - val_accuracy: 0.4580\n",
            "\n",
            "Epoch 00029: saving model to /content/drive/My Drive/Reddit_dataset/cp-0029-word2vec-lstm.ckpt\n",
            "Epoch 30/100\n",
            "25920/25920 [==============================] - 186s 7ms/step - loss: 1.3819 - accuracy: 0.4639 - val_loss: 1.4189 - val_accuracy: 0.4514\n",
            "\n",
            "Epoch 00030: saving model to /content/drive/My Drive/Reddit_dataset/cp-0030-word2vec-lstm.ckpt\n",
            "Epoch 31/100\n",
            "25920/25920 [==============================] - 188s 7ms/step - loss: 1.3713 - accuracy: 0.4689 - val_loss: 1.4137 - val_accuracy: 0.4528\n",
            "\n",
            "Epoch 00031: saving model to /content/drive/My Drive/Reddit_dataset/cp-0031-word2vec-lstm.ckpt\n",
            "Epoch 32/100\n",
            "25920/25920 [==============================] - 187s 7ms/step - loss: 1.3544 - accuracy: 0.4802 - val_loss: 1.4041 - val_accuracy: 0.4622\n",
            "\n",
            "Epoch 00032: saving model to /content/drive/My Drive/Reddit_dataset/cp-0032-word2vec-lstm.ckpt\n",
            "Epoch 33/100\n",
            "25920/25920 [==============================] - 187s 7ms/step - loss: 1.3494 - accuracy: 0.4798 - val_loss: 1.4024 - val_accuracy: 0.4569\n",
            "\n",
            "Epoch 00033: saving model to /content/drive/My Drive/Reddit_dataset/cp-0033-word2vec-lstm.ckpt\n",
            "Epoch 34/100\n",
            "25920/25920 [==============================] - 190s 7ms/step - loss: 1.3447 - accuracy: 0.4822 - val_loss: 1.4007 - val_accuracy: 0.4677\n",
            "\n",
            "Epoch 00034: saving model to /content/drive/My Drive/Reddit_dataset/cp-0034-word2vec-lstm.ckpt\n",
            "Epoch 35/100\n",
            "25920/25920 [==============================] - 187s 7ms/step - loss: 1.3352 - accuracy: 0.4871 - val_loss: 1.3994 - val_accuracy: 0.4583\n",
            "\n",
            "Epoch 00035: saving model to /content/drive/My Drive/Reddit_dataset/cp-0035-word2vec-lstm.ckpt\n",
            "Epoch 36/100\n",
            "25920/25920 [==============================] - 188s 7ms/step - loss: 1.3199 - accuracy: 0.4935 - val_loss: 1.3847 - val_accuracy: 0.4684\n",
            "\n",
            "Epoch 00036: saving model to /content/drive/My Drive/Reddit_dataset/cp-0036-word2vec-lstm.ckpt\n",
            "Epoch 37/100\n",
            "25920/25920 [==============================] - 189s 7ms/step - loss: 1.3150 - accuracy: 0.4961 - val_loss: 1.3847 - val_accuracy: 0.4736\n",
            "\n",
            "Epoch 00037: saving model to /content/drive/My Drive/Reddit_dataset/cp-0037-word2vec-lstm.ckpt\n",
            "Epoch 38/100\n",
            "25920/25920 [==============================] - 189s 7ms/step - loss: 1.3061 - accuracy: 0.4975 - val_loss: 1.3758 - val_accuracy: 0.4764\n",
            "\n",
            "Epoch 00038: saving model to /content/drive/My Drive/Reddit_dataset/cp-0038-word2vec-lstm.ckpt\n",
            "Epoch 39/100\n",
            "25920/25920 [==============================] - 188s 7ms/step - loss: 1.2962 - accuracy: 0.5048 - val_loss: 1.3633 - val_accuracy: 0.4851\n",
            "\n",
            "Epoch 00039: saving model to /content/drive/My Drive/Reddit_dataset/cp-0039-word2vec-lstm.ckpt\n",
            "Epoch 40/100\n",
            "25920/25920 [==============================] - 188s 7ms/step - loss: 1.2826 - accuracy: 0.5069 - val_loss: 1.3633 - val_accuracy: 0.4847\n",
            "\n",
            "Epoch 00040: saving model to /content/drive/My Drive/Reddit_dataset/cp-0040-word2vec-lstm.ckpt\n",
            "Epoch 41/100\n",
            "25920/25920 [==============================] - 188s 7ms/step - loss: 1.2748 - accuracy: 0.5109 - val_loss: 1.3660 - val_accuracy: 0.4861\n",
            "\n",
            "Epoch 00041: saving model to /content/drive/My Drive/Reddit_dataset/cp-0041-word2vec-lstm.ckpt\n",
            "Epoch 42/100\n",
            "25920/25920 [==============================] - 192s 7ms/step - loss: 1.2699 - accuracy: 0.5131 - val_loss: 1.3573 - val_accuracy: 0.4889\n",
            "\n",
            "Epoch 00042: saving model to /content/drive/My Drive/Reddit_dataset/cp-0042-word2vec-lstm.ckpt\n",
            "Epoch 43/100\n",
            "25920/25920 [==============================] - 190s 7ms/step - loss: 1.2613 - accuracy: 0.5182 - val_loss: 1.3525 - val_accuracy: 0.4955\n",
            "\n",
            "Epoch 00043: saving model to /content/drive/My Drive/Reddit_dataset/cp-0043-word2vec-lstm.ckpt\n",
            "Epoch 44/100\n",
            "25920/25920 [==============================] - 193s 7ms/step - loss: 1.2486 - accuracy: 0.5233 - val_loss: 1.3509 - val_accuracy: 0.4896\n",
            "\n",
            "Epoch 00044: saving model to /content/drive/My Drive/Reddit_dataset/cp-0044-word2vec-lstm.ckpt\n",
            "Epoch 45/100\n",
            "25920/25920 [==============================] - 190s 7ms/step - loss: 1.2397 - accuracy: 0.5271 - val_loss: 1.3442 - val_accuracy: 0.4934\n",
            "\n",
            "Epoch 00045: saving model to /content/drive/My Drive/Reddit_dataset/cp-0045-word2vec-lstm.ckpt\n",
            "Epoch 46/100\n",
            "25920/25920 [==============================] - 191s 7ms/step - loss: 1.2371 - accuracy: 0.5287 - val_loss: 1.3418 - val_accuracy: 0.4955\n",
            "\n",
            "Epoch 00046: saving model to /content/drive/My Drive/Reddit_dataset/cp-0046-word2vec-lstm.ckpt\n",
            "Epoch 47/100\n",
            "25920/25920 [==============================] - 193s 7ms/step - loss: 1.2194 - accuracy: 0.5389 - val_loss: 1.3346 - val_accuracy: 0.5031\n",
            "\n",
            "Epoch 00047: saving model to /content/drive/My Drive/Reddit_dataset/cp-0047-word2vec-lstm.ckpt\n",
            "Epoch 48/100\n",
            "25920/25920 [==============================] - 190s 7ms/step - loss: 1.2110 - accuracy: 0.5405 - val_loss: 1.3279 - val_accuracy: 0.4965\n",
            "\n",
            "Epoch 00048: saving model to /content/drive/My Drive/Reddit_dataset/cp-0048-word2vec-lstm.ckpt\n",
            "Epoch 49/100\n",
            "25920/25920 [==============================] - 191s 7ms/step - loss: 1.2030 - accuracy: 0.5427 - val_loss: 1.3342 - val_accuracy: 0.5014\n",
            "\n",
            "Epoch 00049: saving model to /content/drive/My Drive/Reddit_dataset/cp-0049-word2vec-lstm.ckpt\n",
            "Epoch 50/100\n",
            "25920/25920 [==============================] - 193s 7ms/step - loss: 1.1917 - accuracy: 0.5460 - val_loss: 1.3325 - val_accuracy: 0.5014\n",
            "\n",
            "Epoch 00050: saving model to /content/drive/My Drive/Reddit_dataset/cp-0050-word2vec-lstm.ckpt\n",
            "Epoch 51/100\n",
            "25920/25920 [==============================] - 192s 7ms/step - loss: 1.1859 - accuracy: 0.5506 - val_loss: 1.3233 - val_accuracy: 0.5073\n",
            "\n",
            "Epoch 00051: saving model to /content/drive/My Drive/Reddit_dataset/cp-0051-word2vec-lstm.ckpt\n",
            "Epoch 52/100\n",
            "25920/25920 [==============================] - 201s 8ms/step - loss: 1.1777 - accuracy: 0.5521 - val_loss: 1.3197 - val_accuracy: 0.5007\n",
            "\n",
            "Epoch 00052: saving model to /content/drive/My Drive/Reddit_dataset/cp-0052-word2vec-lstm.ckpt\n",
            "Epoch 53/100\n",
            "25920/25920 [==============================] - 201s 8ms/step - loss: 1.1643 - accuracy: 0.5572 - val_loss: 1.3181 - val_accuracy: 0.5087\n",
            "\n",
            "Epoch 00053: saving model to /content/drive/My Drive/Reddit_dataset/cp-0053-word2vec-lstm.ckpt\n",
            "Epoch 54/100\n",
            "25920/25920 [==============================] - 202s 8ms/step - loss: 1.1587 - accuracy: 0.5627 - val_loss: 1.3196 - val_accuracy: 0.5045\n",
            "\n",
            "Epoch 00054: saving model to /content/drive/My Drive/Reddit_dataset/cp-0054-word2vec-lstm.ckpt\n",
            "Epoch 55/100\n",
            "25920/25920 [==============================] - 193s 7ms/step - loss: 1.1515 - accuracy: 0.5655 - val_loss: 1.3117 - val_accuracy: 0.5024\n",
            "\n",
            "Epoch 00055: saving model to /content/drive/My Drive/Reddit_dataset/cp-0055-word2vec-lstm.ckpt\n",
            "Epoch 56/100\n",
            "25920/25920 [==============================] - 196s 8ms/step - loss: 1.1403 - accuracy: 0.5718 - val_loss: 1.3133 - val_accuracy: 0.5052\n",
            "\n",
            "Epoch 00056: saving model to /content/drive/My Drive/Reddit_dataset/cp-0056-word2vec-lstm.ckpt\n",
            "Epoch 57/100\n",
            "25920/25920 [==============================] - 198s 8ms/step - loss: 1.1338 - accuracy: 0.5747 - val_loss: 1.3072 - val_accuracy: 0.5063\n",
            "\n",
            "Epoch 00057: saving model to /content/drive/My Drive/Reddit_dataset/cp-0057-word2vec-lstm.ckpt\n",
            "Epoch 58/100\n",
            "25920/25920 [==============================] - 200s 8ms/step - loss: 1.1270 - accuracy: 0.5742 - val_loss: 1.3008 - val_accuracy: 0.5149\n",
            "\n",
            "Epoch 00058: saving model to /content/drive/My Drive/Reddit_dataset/cp-0058-word2vec-lstm.ckpt\n",
            "Epoch 59/100\n",
            "25920/25920 [==============================] - 197s 8ms/step - loss: 1.1191 - accuracy: 0.5789 - val_loss: 1.3085 - val_accuracy: 0.5115\n",
            "\n",
            "Epoch 00059: saving model to /content/drive/My Drive/Reddit_dataset/cp-0059-word2vec-lstm.ckpt\n",
            "Epoch 60/100\n",
            "25920/25920 [==============================] - 200s 8ms/step - loss: 1.1148 - accuracy: 0.5811 - val_loss: 1.3038 - val_accuracy: 0.5184\n",
            "\n",
            "Epoch 00060: saving model to /content/drive/My Drive/Reddit_dataset/cp-0060-word2vec-lstm.ckpt\n",
            "Epoch 61/100\n",
            "25920/25920 [==============================] - 197s 8ms/step - loss: 1.1039 - accuracy: 0.5805 - val_loss: 1.2994 - val_accuracy: 0.5156\n",
            "\n",
            "Epoch 00061: saving model to /content/drive/My Drive/Reddit_dataset/cp-0061-word2vec-lstm.ckpt\n",
            "Epoch 62/100\n",
            "25920/25920 [==============================] - 193s 7ms/step - loss: 1.0967 - accuracy: 0.5862 - val_loss: 1.3064 - val_accuracy: 0.5191\n",
            "\n",
            "Epoch 00062: saving model to /content/drive/My Drive/Reddit_dataset/cp-0062-word2vec-lstm.ckpt\n",
            "Epoch 63/100\n",
            "25920/25920 [==============================] - 191s 7ms/step - loss: 1.0895 - accuracy: 0.5898 - val_loss: 1.2940 - val_accuracy: 0.5184\n",
            "\n",
            "Epoch 00063: saving model to /content/drive/My Drive/Reddit_dataset/cp-0063-word2vec-lstm.ckpt\n",
            "Epoch 64/100\n",
            "25920/25920 [==============================] - 190s 7ms/step - loss: 1.0754 - accuracy: 0.5946 - val_loss: 1.2953 - val_accuracy: 0.5170\n",
            "\n",
            "Epoch 00064: saving model to /content/drive/My Drive/Reddit_dataset/cp-0064-word2vec-lstm.ckpt\n",
            "Epoch 65/100\n",
            "25920/25920 [==============================] - 195s 8ms/step - loss: 1.0737 - accuracy: 0.5952 - val_loss: 1.2971 - val_accuracy: 0.5174\n",
            "\n",
            "Epoch 00065: saving model to /content/drive/My Drive/Reddit_dataset/cp-0065-word2vec-lstm.ckpt\n",
            "Epoch 66/100\n",
            "25920/25920 [==============================] - 188s 7ms/step - loss: 1.0644 - accuracy: 0.5994 - val_loss: 1.3018 - val_accuracy: 0.5257\n",
            "\n",
            "Epoch 00066: saving model to /content/drive/My Drive/Reddit_dataset/cp-0066-word2vec-lstm.ckpt\n",
            "Epoch 67/100\n",
            "25920/25920 [==============================] - 187s 7ms/step - loss: 1.0583 - accuracy: 0.6044 - val_loss: 1.3030 - val_accuracy: 0.5226\n",
            "\n",
            "Epoch 00067: saving model to /content/drive/My Drive/Reddit_dataset/cp-0067-word2vec-lstm.ckpt\n",
            "Epoch 68/100\n",
            "25920/25920 [==============================] - 184s 7ms/step - loss: 1.0539 - accuracy: 0.6039 - val_loss: 1.2955 - val_accuracy: 0.5177\n",
            "\n",
            "Epoch 00068: saving model to /content/drive/My Drive/Reddit_dataset/cp-0068-word2vec-lstm.ckpt\n",
            "7200/7200 [==============================] - 10s 1ms/step\n",
            "Test set\n",
            "  Loss: 1.273\n",
            "  Accuracy: 0.521\n"
          ],
          "name": "stdout"
        },
        {
          "output_type": "display_data",
          "data": {
            "image/png": "[encoded data removed]",
            "text/plain": [
              "<Figure size 432x288 with 1 Axes>"
            ]
          },
          "metadata": {
            "tags": [],
            "needs_background": "light"
          }
        },
        {
          "output_type": "display_data",
          "data": {
            "image/png": "[encoded data removed]",
            "text/plain": [
              "<Figure size 432x288 with 1 Axes>"
            ]
          },
          "metadata": {
            "tags": [],
            "needs_background": "light"
          }
        }
      ]
    },
    {
      "cell_type": "code",
      "metadata": {
        "id": "Zu86NgATd-Cu",
        "colab_type": "code",
        "outputId": "b67f88ff-4f48-45a1-c153-1f394a947da0",
        "colab": {
          "base_uri": "https://localhost:8080/",
          "height": 1000
        }
      },
      "source": [
        "train_test_model(lstm_fasttext_model, \"fasttext\", \"lstm\")\n",
        "lstm_fasttext_model.save('/content/drive/My Drive/Reddit_dataset/lstm_fasttext_model.h5')"
      ],
      "execution_count": 0,
      "outputs": [
        {
          "output_type": "stream",
          "text": [
            "Train on 25920 samples, validate on 2880 samples\n",
            "Epoch 1/100\n",
            "25920/25920 [==============================] - 209s 8ms/step - loss: 1.7515 - accuracy: 0.2583 - val_loss: 1.6983 - val_accuracy: 0.3184\n",
            "\n",
            "Epoch 00001: saving model to /content/drive/My Drive/Reddit_dataset/cp-0001-fasttext-lstm.ckpt\n",
            "Epoch 2/100\n",
            "25920/25920 [==============================] - 207s 8ms/step - loss: 1.6715 - accuracy: 0.3231 - val_loss: 1.6130 - val_accuracy: 0.3694\n",
            "\n",
            "Epoch 00002: saving model to /content/drive/My Drive/Reddit_dataset/cp-0002-fasttext-lstm.ckpt\n",
            "Epoch 3/100\n",
            "25920/25920 [==============================] - 208s 8ms/step - loss: 1.6174 - accuracy: 0.3547 - val_loss: 1.5790 - val_accuracy: 0.3938\n",
            "\n",
            "Epoch 00003: saving model to /content/drive/My Drive/Reddit_dataset/cp-0003-fasttext-lstm.ckpt\n",
            "Epoch 4/100\n",
            "25920/25920 [==============================] - 209s 8ms/step - loss: 1.5939 - accuracy: 0.3706 - val_loss: 1.5632 - val_accuracy: 0.3920\n",
            "\n",
            "Epoch 00004: saving model to /content/drive/My Drive/Reddit_dataset/cp-0004-fasttext-lstm.ckpt\n",
            "Epoch 5/100\n",
            "25920/25920 [==============================] - 211s 8ms/step - loss: 1.5777 - accuracy: 0.3770 - val_loss: 1.5519 - val_accuracy: 0.4014\n",
            "\n",
            "Epoch 00005: saving model to /content/drive/My Drive/Reddit_dataset/cp-0005-fasttext-lstm.ckpt\n",
            "Epoch 6/100\n",
            "25920/25920 [==============================] - 210s 8ms/step - loss: 1.5674 - accuracy: 0.3787 - val_loss: 1.5407 - val_accuracy: 0.4146\n",
            "\n",
            "Epoch 00006: saving model to /content/drive/My Drive/Reddit_dataset/cp-0006-fasttext-lstm.ckpt\n",
            "Epoch 7/100\n",
            "25920/25920 [==============================] - 209s 8ms/step - loss: 1.5555 - accuracy: 0.3867 - val_loss: 1.5245 - val_accuracy: 0.4163\n",
            "\n",
            "Epoch 00007: saving model to /content/drive/My Drive/Reddit_dataset/cp-0007-fasttext-lstm.ckpt\n",
            "Epoch 8/100\n",
            "25920/25920 [==============================] - 210s 8ms/step - loss: 1.5459 - accuracy: 0.3924 - val_loss: 1.5316 - val_accuracy: 0.4139\n",
            "\n",
            "Epoch 00008: saving model to /content/drive/My Drive/Reddit_dataset/cp-0008-fasttext-lstm.ckpt\n",
            "Epoch 9/100\n",
            "25920/25920 [==============================] - 209s 8ms/step - loss: 1.5339 - accuracy: 0.3963 - val_loss: 1.5160 - val_accuracy: 0.4208\n",
            "\n",
            "Epoch 00009: saving model to /content/drive/My Drive/Reddit_dataset/cp-0009-fasttext-lstm.ckpt\n",
            "Epoch 10/100\n",
            "25920/25920 [==============================] - 212s 8ms/step - loss: 1.5261 - accuracy: 0.3990 - val_loss: 1.5164 - val_accuracy: 0.4212\n",
            "\n",
            "Epoch 00010: saving model to /content/drive/My Drive/Reddit_dataset/cp-0010-fasttext-lstm.ckpt\n",
            "Epoch 11/100\n",
            "25920/25920 [==============================] - 199s 8ms/step - loss: 1.5205 - accuracy: 0.4040 - val_loss: 1.4994 - val_accuracy: 0.4208\n",
            "\n",
            "Epoch 00011: saving model to /content/drive/My Drive/Reddit_dataset/cp-0011-fasttext-lstm.ckpt\n",
            "Epoch 12/100\n",
            "25920/25920 [==============================] - 205s 8ms/step - loss: 1.5050 - accuracy: 0.4121 - val_loss: 1.4968 - val_accuracy: 0.4222\n",
            "\n",
            "Epoch 00012: saving model to /content/drive/My Drive/Reddit_dataset/cp-0012-fasttext-lstm.ckpt\n",
            "Epoch 13/100\n",
            "25920/25920 [==============================] - 206s 8ms/step - loss: 1.5001 - accuracy: 0.4137 - val_loss: 1.4898 - val_accuracy: 0.4212\n",
            "\n",
            "Epoch 00013: saving model to /content/drive/My Drive/Reddit_dataset/cp-0013-fasttext-lstm.ckpt\n",
            "Epoch 14/100\n",
            "25920/25920 [==============================] - 205s 8ms/step - loss: 1.4931 - accuracy: 0.4157 - val_loss: 1.4825 - val_accuracy: 0.4295\n",
            "\n",
            "Epoch 00014: saving model to /content/drive/My Drive/Reddit_dataset/cp-0014-fasttext-lstm.ckpt\n",
            "Epoch 15/100\n",
            "25920/25920 [==============================] - 198s 8ms/step - loss: 1.4838 - accuracy: 0.4227 - val_loss: 1.4787 - val_accuracy: 0.4354\n",
            "\n",
            "Epoch 00015: saving model to /content/drive/My Drive/Reddit_dataset/cp-0015-fasttext-lstm.ckpt\n",
            "Epoch 16/100\n",
            "25920/25920 [==============================] - 197s 8ms/step - loss: 1.4715 - accuracy: 0.4289 - val_loss: 1.4793 - val_accuracy: 0.4330\n",
            "\n",
            "Epoch 00016: saving model to /content/drive/My Drive/Reddit_dataset/cp-0016-fasttext-lstm.ckpt\n",
            "Epoch 17/100\n",
            "25920/25920 [==============================] - 189s 7ms/step - loss: 1.4669 - accuracy: 0.4286 - val_loss: 1.4656 - val_accuracy: 0.4354\n",
            "\n",
            "Epoch 00017: saving model to /content/drive/My Drive/Reddit_dataset/cp-0017-fasttext-lstm.ckpt\n",
            "Epoch 18/100\n",
            "25920/25920 [==============================] - 196s 8ms/step - loss: 1.4602 - accuracy: 0.4322 - val_loss: 1.4708 - val_accuracy: 0.4330\n",
            "\n",
            "Epoch 00018: saving model to /content/drive/My Drive/Reddit_dataset/cp-0018-fasttext-lstm.ckpt\n",
            "Epoch 19/100\n",
            "25920/25920 [==============================] - 201s 8ms/step - loss: 1.4526 - accuracy: 0.4385 - val_loss: 1.4606 - val_accuracy: 0.4372\n",
            "\n",
            "Epoch 00019: saving model to /content/drive/My Drive/Reddit_dataset/cp-0019-fasttext-lstm.ckpt\n",
            "Epoch 20/100\n",
            "25920/25920 [==============================] - 199s 8ms/step - loss: 1.4407 - accuracy: 0.4375 - val_loss: 1.4523 - val_accuracy: 0.4431\n",
            "\n",
            "Epoch 00020: saving model to /content/drive/My Drive/Reddit_dataset/cp-0020-fasttext-lstm.ckpt\n",
            "Epoch 21/100\n",
            "25920/25920 [==============================] - 201s 8ms/step - loss: 1.4361 - accuracy: 0.4451 - val_loss: 1.4534 - val_accuracy: 0.4441\n",
            "\n",
            "Epoch 00021: saving model to /content/drive/My Drive/Reddit_dataset/cp-0021-fasttext-lstm.ckpt\n",
            "Epoch 22/100\n",
            "25920/25920 [==============================] - 203s 8ms/step - loss: 1.4245 - accuracy: 0.4488 - val_loss: 1.4369 - val_accuracy: 0.4528\n",
            "\n",
            "Epoch 00022: saving model to /content/drive/My Drive/Reddit_dataset/cp-0022-fasttext-lstm.ckpt\n",
            "Epoch 23/100\n",
            "25920/25920 [==============================] - 197s 8ms/step - loss: 1.4175 - accuracy: 0.4485 - val_loss: 1.4377 - val_accuracy: 0.4528\n",
            "\n",
            "Epoch 00023: saving model to /content/drive/My Drive/Reddit_dataset/cp-0023-fasttext-lstm.ckpt\n",
            "Epoch 24/100\n",
            "25920/25920 [==============================] - 196s 8ms/step - loss: 1.4129 - accuracy: 0.4528 - val_loss: 1.4260 - val_accuracy: 0.4656\n",
            "\n",
            "Epoch 00024: saving model to /content/drive/My Drive/Reddit_dataset/cp-0024-fasttext-lstm.ckpt\n",
            "Epoch 25/100\n",
            "25920/25920 [==============================] - 192s 7ms/step - loss: 1.4147 - accuracy: 0.4541 - val_loss: 1.4196 - val_accuracy: 0.4653\n",
            "\n",
            "Epoch 00025: saving model to /content/drive/My Drive/Reddit_dataset/cp-0025-fasttext-lstm.ckpt\n",
            "Epoch 26/100\n",
            "25920/25920 [==============================] - 190s 7ms/step - loss: 1.3891 - accuracy: 0.4644 - val_loss: 1.4087 - val_accuracy: 0.4698\n",
            "\n",
            "Epoch 00026: saving model to /content/drive/My Drive/Reddit_dataset/cp-0026-fasttext-lstm.ckpt\n",
            "Epoch 27/100\n",
            "25920/25920 [==============================] - 202s 8ms/step - loss: 1.3838 - accuracy: 0.4674 - val_loss: 1.4115 - val_accuracy: 0.4608\n",
            "\n",
            "Epoch 00027: saving model to /content/drive/My Drive/Reddit_dataset/cp-0027-fasttext-lstm.ckpt\n",
            "Epoch 28/100\n",
            "25920/25920 [==============================] - 193s 7ms/step - loss: 1.3778 - accuracy: 0.4688 - val_loss: 1.4126 - val_accuracy: 0.4566\n",
            "\n",
            "Epoch 00028: saving model to /content/drive/My Drive/Reddit_dataset/cp-0028-fasttext-lstm.ckpt\n",
            "Epoch 29/100\n",
            "25920/25920 [==============================] - 187s 7ms/step - loss: 1.3636 - accuracy: 0.4777 - val_loss: 1.3991 - val_accuracy: 0.4747\n",
            "\n",
            "Epoch 00029: saving model to /content/drive/My Drive/Reddit_dataset/cp-0029-fasttext-lstm.ckpt\n",
            "Epoch 30/100\n",
            "25920/25920 [==============================] - 187s 7ms/step - loss: 1.3643 - accuracy: 0.4762 - val_loss: 1.3927 - val_accuracy: 0.4719\n",
            "\n",
            "Epoch 00030: saving model to /content/drive/My Drive/Reddit_dataset/cp-0030-fasttext-lstm.ckpt\n",
            "Epoch 31/100\n",
            "25920/25920 [==============================] - 184s 7ms/step - loss: 1.3417 - accuracy: 0.4860 - val_loss: 1.3920 - val_accuracy: 0.4792\n",
            "\n",
            "Epoch 00031: saving model to /content/drive/My Drive/Reddit_dataset/cp-0031-fasttext-lstm.ckpt\n",
            "Epoch 32/100\n",
            "25920/25920 [==============================] - 186s 7ms/step - loss: 1.3361 - accuracy: 0.4898 - val_loss: 1.3836 - val_accuracy: 0.4778\n",
            "\n",
            "Epoch 00032: saving model to /content/drive/My Drive/Reddit_dataset/cp-0032-fasttext-lstm.ckpt\n",
            "Epoch 33/100\n",
            "25920/25920 [==============================] - 183s 7ms/step - loss: 1.3271 - accuracy: 0.4939 - val_loss: 1.3780 - val_accuracy: 0.4806\n",
            "\n",
            "Epoch 00033: saving model to /content/drive/My Drive/Reddit_dataset/cp-0033-fasttext-lstm.ckpt\n",
            "Epoch 34/100\n",
            "25920/25920 [==============================] - 186s 7ms/step - loss: 1.3189 - accuracy: 0.4931 - val_loss: 1.3719 - val_accuracy: 0.4819\n",
            "\n",
            "Epoch 00034: saving model to /content/drive/My Drive/Reddit_dataset/cp-0034-fasttext-lstm.ckpt\n",
            "Epoch 35/100\n",
            "25920/25920 [==============================] - 182s 7ms/step - loss: 1.3055 - accuracy: 0.4995 - val_loss: 1.3668 - val_accuracy: 0.4826\n",
            "\n",
            "Epoch 00035: saving model to /content/drive/My Drive/Reddit_dataset/cp-0035-fasttext-lstm.ckpt\n",
            "Epoch 36/100\n",
            "25920/25920 [==============================] - 186s 7ms/step - loss: 1.2997 - accuracy: 0.5032 - val_loss: 1.3610 - val_accuracy: 0.4927\n",
            "\n",
            "Epoch 00036: saving model to /content/drive/My Drive/Reddit_dataset/cp-0036-fasttext-lstm.ckpt\n",
            "Epoch 37/100\n",
            "25920/25920 [==============================] - 187s 7ms/step - loss: 1.2913 - accuracy: 0.5053 - val_loss: 1.3555 - val_accuracy: 0.4913\n",
            "\n",
            "Epoch 00037: saving model to /content/drive/My Drive/Reddit_dataset/cp-0037-fasttext-lstm.ckpt\n",
            "Epoch 38/100\n",
            "25920/25920 [==============================] - 184s 7ms/step - loss: 1.2801 - accuracy: 0.5115 - val_loss: 1.3490 - val_accuracy: 0.5056\n",
            "\n",
            "Epoch 00038: saving model to /content/drive/My Drive/Reddit_dataset/cp-0038-fasttext-lstm.ckpt\n",
            "Epoch 39/100\n",
            "25920/25920 [==============================] - 186s 7ms/step - loss: 1.2690 - accuracy: 0.5190 - val_loss: 1.3522 - val_accuracy: 0.4896\n",
            "\n",
            "Epoch 00039: saving model to /content/drive/My Drive/Reddit_dataset/cp-0039-fasttext-lstm.ckpt\n",
            "Epoch 40/100\n",
            "25920/25920 [==============================] - 184s 7ms/step - loss: 1.2600 - accuracy: 0.5213 - val_loss: 1.3493 - val_accuracy: 0.4997\n",
            "\n",
            "Epoch 00040: saving model to /content/drive/My Drive/Reddit_dataset/cp-0040-fasttext-lstm.ckpt\n",
            "Epoch 41/100\n",
            "25920/25920 [==============================] - 189s 7ms/step - loss: 1.2526 - accuracy: 0.5259 - val_loss: 1.3395 - val_accuracy: 0.4997\n",
            "\n",
            "Epoch 00041: saving model to /content/drive/My Drive/Reddit_dataset/cp-0041-fasttext-lstm.ckpt\n",
            "Epoch 42/100\n",
            "25920/25920 [==============================] - 185s 7ms/step - loss: 1.2390 - accuracy: 0.5281 - val_loss: 1.3465 - val_accuracy: 0.4955\n",
            "\n",
            "Epoch 00042: saving model to /content/drive/My Drive/Reddit_dataset/cp-0042-fasttext-lstm.ckpt\n",
            "Epoch 43/100\n",
            "25920/25920 [==============================] - 184s 7ms/step - loss: 1.2345 - accuracy: 0.5363 - val_loss: 1.3411 - val_accuracy: 0.4983\n",
            "\n",
            "Epoch 00043: saving model to /content/drive/My Drive/Reddit_dataset/cp-0043-fasttext-lstm.ckpt\n",
            "Epoch 44/100\n",
            "25920/25920 [==============================] - 186s 7ms/step - loss: 1.2235 - accuracy: 0.5399 - val_loss: 1.3464 - val_accuracy: 0.5017\n",
            "\n",
            "Epoch 00044: saving model to /content/drive/My Drive/Reddit_dataset/cp-0044-fasttext-lstm.ckpt\n",
            "Epoch 45/100\n",
            "25920/25920 [==============================] - 183s 7ms/step - loss: 1.2136 - accuracy: 0.5404 - val_loss: 1.3228 - val_accuracy: 0.5115\n",
            "\n",
            "Epoch 00045: saving model to /content/drive/My Drive/Reddit_dataset/cp-0045-fasttext-lstm.ckpt\n",
            "Epoch 46/100\n",
            "25920/25920 [==============================] - 187s 7ms/step - loss: 1.2086 - accuracy: 0.5432 - val_loss: 1.3278 - val_accuracy: 0.5042\n",
            "\n",
            "Epoch 00046: saving model to /content/drive/My Drive/Reddit_dataset/cp-0046-fasttext-lstm.ckpt\n",
            "Epoch 47/100\n",
            "25920/25920 [==============================] - 185s 7ms/step - loss: 1.1962 - accuracy: 0.5459 - val_loss: 1.3242 - val_accuracy: 0.5076\n",
            "\n",
            "Epoch 00047: saving model to /content/drive/My Drive/Reddit_dataset/cp-0047-fasttext-lstm.ckpt\n",
            "Epoch 48/100\n",
            "25920/25920 [==============================] - 185s 7ms/step - loss: 1.1905 - accuracy: 0.5515 - val_loss: 1.3328 - val_accuracy: 0.5031\n",
            "\n",
            "Epoch 00048: saving model to /content/drive/My Drive/Reddit_dataset/cp-0048-fasttext-lstm.ckpt\n",
            "Epoch 49/100\n",
            "25920/25920 [==============================] - 188s 7ms/step - loss: 1.1803 - accuracy: 0.5527 - val_loss: 1.3169 - val_accuracy: 0.5108\n",
            "\n",
            "Epoch 00049: saving model to /content/drive/My Drive/Reddit_dataset/cp-0049-fasttext-lstm.ckpt\n",
            "Epoch 50/100\n",
            "25920/25920 [==============================] - 186s 7ms/step - loss: 1.1703 - accuracy: 0.5608 - val_loss: 1.3162 - val_accuracy: 0.5118\n",
            "\n",
            "Epoch 00050: saving model to /content/drive/My Drive/Reddit_dataset/cp-0050-fasttext-lstm.ckpt\n",
            "Epoch 51/100\n",
            "25920/25920 [==============================] - 187s 7ms/step - loss: 1.1654 - accuracy: 0.5618 - val_loss: 1.3074 - val_accuracy: 0.5135\n",
            "\n",
            "Epoch 00051: saving model to /content/drive/My Drive/Reddit_dataset/cp-0051-fasttext-lstm.ckpt\n",
            "Epoch 52/100\n",
            "25920/25920 [==============================] - 188s 7ms/step - loss: 1.1515 - accuracy: 0.5656 - val_loss: 1.3142 - val_accuracy: 0.5142\n",
            "\n",
            "Epoch 00052: saving model to /content/drive/My Drive/Reddit_dataset/cp-0052-fasttext-lstm.ckpt\n",
            "Epoch 53/100\n",
            "25920/25920 [==============================] - 187s 7ms/step - loss: 1.1436 - accuracy: 0.5732 - val_loss: 1.3136 - val_accuracy: 0.5156\n",
            "\n",
            "Epoch 00053: saving model to /content/drive/My Drive/Reddit_dataset/cp-0053-fasttext-lstm.ckpt\n",
            "Epoch 54/100\n",
            "25920/25920 [==============================] - 190s 7ms/step - loss: 1.1372 - accuracy: 0.5705 - val_loss: 1.3121 - val_accuracy: 0.5170\n",
            "\n",
            "Epoch 00054: saving model to /content/drive/My Drive/Reddit_dataset/cp-0054-fasttext-lstm.ckpt\n",
            "Epoch 55/100\n",
            "25920/25920 [==============================] - 185s 7ms/step - loss: 1.1300 - accuracy: 0.5774 - val_loss: 1.3112 - val_accuracy: 0.5135\n",
            "\n",
            "Epoch 00055: saving model to /content/drive/My Drive/Reddit_dataset/cp-0055-fasttext-lstm.ckpt\n",
            "Epoch 56/100\n",
            "25920/25920 [==============================] - 185s 7ms/step - loss: 1.1232 - accuracy: 0.5772 - val_loss: 1.3147 - val_accuracy: 0.5177\n",
            "\n",
            "Epoch 00056: saving model to /content/drive/My Drive/Reddit_dataset/cp-0056-fasttext-lstm.ckpt\n",
            "7200/7200 [==============================] - 9s 1ms/step\n",
            "Test set\n",
            "  Loss: 1.282\n",
            "  Accuracy: 0.518\n"
          ],
          "name": "stdout"
        },
        {
          "output_type": "display_data",
          "data": {
            "image/png": "[encoded data removed]",
            "text/plain": [
              "<Figure size 432x288 with 1 Axes>"
            ]
          },
          "metadata": {
            "tags": [],
            "needs_background": "light"
          }
        },
        {
          "output_type": "display_data",
          "data": {
            "image/png": "[encoded data removed]",
            "text/plain": [
              "<Figure size 432x288 with 1 Axes>"
            ]
          },
          "metadata": {
            "tags": [],
            "needs_background": "light"
          }
        }
      ]
    },
    {
      "cell_type": "markdown",
      "metadata": {
        "id": "zCHyATJjQTs7",
        "colab_type": "text"
      },
      "source": [
        "### **Inference**\n",
        "\n",
        "The word2vec performed the best of all the 4 models I had trained. However, these models were outperformed by the logistic regression model trained. Due to this reason, I deployed the logistic regression model with the webapp."
      ]
    }
  ]
}